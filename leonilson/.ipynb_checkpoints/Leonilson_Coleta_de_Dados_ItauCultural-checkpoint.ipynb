{
 "cells": [
  {
   "cell_type": "markdown",
   "metadata": {
    "id": "gXUDl_byN6b4"
   },
   "source": [
    "# Coleta de Obras e exposições do Leonilson, na [Enciclopédia Itaú Cultural](https://enciclopedia.itaucultural.org.br/pessoa8742/leonilson/) \n",
    "\n",
    "\n",
    "\n",
    "\n",
    "LEONILSON. In: ENCICLOPÉDIA Itaú Cultural de Arte e Cultura Brasileira. São Paulo: Itaú Cultural, 2022. Disponível em: http://enciclopedia.itaucultural.org.br/pessoa8742/leonilson. Acesso em: 03 de março de 2022. Verbete da Enciclopédia.\n",
    "ISBN: 978-85-7979-060-7"
   ]
  },
  {
   "cell_type": "markdown",
   "metadata": {
    "id": "M-EemBKkPNiJ"
   },
   "source": [
    "Imports:"
   ]
  },
  {
   "cell_type": "code",
   "execution_count": 1,
   "metadata": {
    "id": "q9k-zG43GtXl"
   },
   "outputs": [],
   "source": [
    "from urllib.error import HTTPError\n",
    "from urllib.error import URLError\n",
    "from bs4 import BeautifulSoup\n",
    "from urllib.request import urlopen\n",
    "import pandas as pd"
   ]
  },
  {
   "cell_type": "markdown",
   "metadata": {
    "id": "-3GyAVvFOIsT"
   },
   "source": [
    "## Obras"
   ]
  },
  {
   "cell_type": "code",
   "execution_count": 2,
   "metadata": {
    "colab": {
     "base_uri": "https://localhost:8080/"
    },
    "id": "HftJBoiCMq0z",
    "outputId": "22cd1cd1-69ca-4722-d037-0a460dc10dc8"
   },
   "outputs": [
    {
     "name": "stdout",
     "output_type": "stream",
     "text": [
      "página: 1, obras coletadas: 18\n",
      "página: 2, obras coletadas: 18\n",
      "página: 3, obras coletadas: 18\n",
      "página: 4, obras coletadas: 5\n",
      "Total coletado: 59\n"
     ]
    }
   ],
   "source": [
    "obras = []\n",
    "\n",
    "for i in range(1,5):\n",
    "  url = f'https://enciclopedia.itaucultural.org.br/pessoa8742/leonilson/obras?p={i}'\n",
    "  page_info=urlopen(url)\n",
    "  soup = BeautifulSoup(page_info, 'html.parser')\n",
    "  data = soup.find('div', \"container articles-wrap p-0\")\n",
    "  children = data.findChildren(\"article\" , recursive=False)\n",
    "  print(f'página: {i}, obras coletadas: {len(children)}')\n",
    "  for c in children:\n",
    "    img = 'https://'+c.findChildren(\"img\",'')[0].attrs['src'].replace('//','')\n",
    "    elm = c.findChildren(\"h2\",'border-top-3 pt-1')[0].findChildren('a','')[0]\n",
    "    title = elm.text\n",
    "    url = 'https://enciclopedia.itaucultural.org.br/'+elm.attrs['href']\n",
    "    # year = c.findChildren(\"strong\",'')[0].text\n",
    "    year, info = c.findChildren(\"div\",'detail-info')[0].text.replace('        ','').split('\\n')[1:3]\n",
    "    obras.append({'img_url':img, 'title':title, 'year':year, 'info':info,'url':url})\n",
    "\n",
    "print(f'Total coletado: {len(obras)}')\n"
   ]
  },
  {
   "cell_type": "code",
   "execution_count": 3,
   "metadata": {
    "colab": {
     "base_uri": "https://localhost:8080/",
     "height": 1000
    },
    "id": "tY3Czlw1NcdL",
    "outputId": "fc3ac4b8-3826-4f22-d43a-bf8dc2397953"
   },
   "outputs": [
    {
     "data": {
      "text/html": [
       "<div>\n",
       "<style scoped>\n",
       "    .dataframe tbody tr th:only-of-type {\n",
       "        vertical-align: middle;\n",
       "    }\n",
       "\n",
       "    .dataframe tbody tr th {\n",
       "        vertical-align: top;\n",
       "    }\n",
       "\n",
       "    .dataframe thead th {\n",
       "        text-align: right;\n",
       "    }\n",
       "</style>\n",
       "<table border=\"1\" class=\"dataframe\">\n",
       "  <thead>\n",
       "    <tr style=\"text-align: right;\">\n",
       "      <th></th>\n",
       "      <th>img_url</th>\n",
       "      <th>title</th>\n",
       "      <th>year</th>\n",
       "      <th>info</th>\n",
       "      <th>url</th>\n",
       "    </tr>\n",
       "  </thead>\n",
       "  <tbody>\n",
       "    <tr>\n",
       "      <th>0</th>\n",
       "      <td>https://d3swacfcujrr1g.cloudfront.net/img/uplo...</td>\n",
       "      <td>A Consequência do Sonho</td>\n",
       "      <td>1987</td>\n",
       "      <td>Acrílica sobre tela</td>\n",
       "      <td>https://enciclopedia.itaucultural.org.br//obra...</td>\n",
       "    </tr>\n",
       "    <tr>\n",
       "      <th>1</th>\n",
       "      <td>https://d3swacfcujrr1g.cloudfront.net/img/uplo...</td>\n",
       "      <td>As Fadas</td>\n",
       "      <td>1992</td>\n",
       "      <td>Tinta preta a pena sobre papel</td>\n",
       "      <td>https://enciclopedia.itaucultural.org.br//obra...</td>\n",
       "    </tr>\n",
       "    <tr>\n",
       "      <th>2</th>\n",
       "      <td>https://d3swacfcujrr1g.cloudfront.net/img/uplo...</td>\n",
       "      <td>As Montanhas ao Longe</td>\n",
       "      <td>1989</td>\n",
       "      <td>Aquarela e nanquim sobre papel</td>\n",
       "      <td>https://enciclopedia.itaucultural.org.br//obra...</td>\n",
       "    </tr>\n",
       "    <tr>\n",
       "      <th>3</th>\n",
       "      <td>https://d3swacfcujrr1g.cloudfront.net/img/uplo...</td>\n",
       "      <td>Cada Delícia Tem Seu Preço</td>\n",
       "      <td>1988</td>\n",
       "      <td>Acrílica sobre lona</td>\n",
       "      <td>https://enciclopedia.itaucultural.org.br//obra...</td>\n",
       "    </tr>\n",
       "    <tr>\n",
       "      <th>4</th>\n",
       "      <td>https://d3swacfcujrr1g.cloudfront.net/img/uplo...</td>\n",
       "      <td>Chapéus</td>\n",
       "      <td>1983</td>\n",
       "      <td>Acrílica sobre tecido listrado</td>\n",
       "      <td>https://enciclopedia.itaucultural.org.br//obra...</td>\n",
       "    </tr>\n",
       "    <tr>\n",
       "      <th>5</th>\n",
       "      <td>https://d3swacfcujrr1g.cloudfront.net/img/uplo...</td>\n",
       "      <td>Cheio, Vazio</td>\n",
       "      <td>1993</td>\n",
       "      <td>Bordado sobre voile e tecido de algodão</td>\n",
       "      <td>https://enciclopedia.itaucultural.org.br//obra...</td>\n",
       "    </tr>\n",
       "    <tr>\n",
       "      <th>6</th>\n",
       "      <td>https://d3swacfcujrr1g.cloudfront.net/img/uplo...</td>\n",
       "      <td>Converso no Seio de Cristo</td>\n",
       "      <td>1993</td>\n",
       "      <td>Nanquim sobre papel</td>\n",
       "      <td>https://enciclopedia.itaucultural.org.br//obra...</td>\n",
       "    </tr>\n",
       "    <tr>\n",
       "      <th>7</th>\n",
       "      <td>https://d3swacfcujrr1g.cloudfront.net/img/uplo...</td>\n",
       "      <td>El Desierto</td>\n",
       "      <td>1991</td>\n",
       "      <td>Bordado sobre feltro</td>\n",
       "      <td>https://enciclopedia.itaucultural.org.br//obra...</td>\n",
       "    </tr>\n",
       "    <tr>\n",
       "      <th>8</th>\n",
       "      <td>https://d3swacfcujrr1g.cloudfront.net/img/uplo...</td>\n",
       "      <td>El Puerto</td>\n",
       "      <td>1992</td>\n",
       "      <td>Bordado sobre tecido de algodão e espelho emol...</td>\n",
       "      <td>https://enciclopedia.itaucultural.org.br//obra...</td>\n",
       "    </tr>\n",
       "    <tr>\n",
       "      <th>9</th>\n",
       "      <td>https://d3swacfcujrr1g.cloudfront.net/img/uplo...</td>\n",
       "      <td>Estádio</td>\n",
       "      <td>1983</td>\n",
       "      <td>Acrílica sobre tela</td>\n",
       "      <td>https://enciclopedia.itaucultural.org.br//obra...</td>\n",
       "    </tr>\n",
       "    <tr>\n",
       "      <th>10</th>\n",
       "      <td>https://d3swacfcujrr1g.cloudfront.net/img/uplo...</td>\n",
       "      <td>Homem com Fogo nas Mãos</td>\n",
       "      <td>1990</td>\n",
       "      <td>Acrílico sobre lona</td>\n",
       "      <td>https://enciclopedia.itaucultural.org.br//obra...</td>\n",
       "    </tr>\n",
       "    <tr>\n",
       "      <th>11</th>\n",
       "      <td>https://d3swacfcujrr1g.cloudfront.net/img/uplo...</td>\n",
       "      <td>Instalação Capela do Morumbi</td>\n",
       "      <td>1993</td>\n",
       "      <td>Bordado sobre tecido de algodão e sobre camisa...</td>\n",
       "      <td>https://enciclopedia.itaucultural.org.br//obra...</td>\n",
       "    </tr>\n",
       "    <tr>\n",
       "      <th>12</th>\n",
       "      <td>https://d3swacfcujrr1g.cloudfront.net/img/uplo...</td>\n",
       "      <td>J.L.B.D.</td>\n",
       "      <td>1993</td>\n",
       "      <td>Bordado sobre veludo</td>\n",
       "      <td>https://enciclopedia.itaucultural.org.br//obra...</td>\n",
       "    </tr>\n",
       "    <tr>\n",
       "      <th>13</th>\n",
       "      <td>https://d3swacfcujrr1g.cloudfront.net/img/uplo...</td>\n",
       "      <td>Jesus com Rapaz Acidentado</td>\n",
       "      <td>1991</td>\n",
       "      <td>Tinta preta a pena sobre papel</td>\n",
       "      <td>https://enciclopedia.itaucultural.org.br//obra...</td>\n",
       "    </tr>\n",
       "    <tr>\n",
       "      <th>14</th>\n",
       "      <td>https://d3swacfcujrr1g.cloudfront.net/img/uplo...</td>\n",
       "      <td>Jogos Perigosos</td>\n",
       "      <td>1990</td>\n",
       "      <td>Acrílica sobre tela</td>\n",
       "      <td>https://enciclopedia.itaucultural.org.br//obra...</td>\n",
       "    </tr>\n",
       "    <tr>\n",
       "      <th>15</th>\n",
       "      <td>https://d3swacfcujrr1g.cloudfront.net/img/uplo...</td>\n",
       "      <td>José</td>\n",
       "      <td>1991</td>\n",
       "      <td>Bordado em linha preta sobre voile</td>\n",
       "      <td>https://enciclopedia.itaucultural.org.br//obra...</td>\n",
       "    </tr>\n",
       "    <tr>\n",
       "      <th>16</th>\n",
       "      <td>https://d3swacfcujrr1g.cloudfront.net/img/uplo...</td>\n",
       "      <td>Las ILusiones</td>\n",
       "      <td>1991</td>\n",
       "      <td>Nanquim sobre papel</td>\n",
       "      <td>https://enciclopedia.itaucultural.org.br//obra...</td>\n",
       "    </tr>\n",
       "    <tr>\n",
       "      <th>17</th>\n",
       "      <td>https://d3swacfcujrr1g.cloudfront.net/img/uplo...</td>\n",
       "      <td>Leo Não Consegue Mudar o Mundo</td>\n",
       "      <td>1989</td>\n",
       "      <td>Acrílica sobre lona</td>\n",
       "      <td>https://enciclopedia.itaucultural.org.br//obra...</td>\n",
       "    </tr>\n",
       "    <tr>\n",
       "      <th>18</th>\n",
       "      <td>https://d3swacfcujrr1g.cloudfront.net/img/uplo...</td>\n",
       "      <td>Les Moments</td>\n",
       "      <td>1992</td>\n",
       "      <td>Bordado sobre feltro</td>\n",
       "      <td>https://enciclopedia.itaucultural.org.br//obra...</td>\n",
       "    </tr>\n",
       "    <tr>\n",
       "      <th>19</th>\n",
       "      <td>https://d3swacfcujrr1g.cloudfront.net/img/uplo...</td>\n",
       "      <td>Lisiantros</td>\n",
       "      <td>1992</td>\n",
       "      <td>Tinta preta a pena sobre papel</td>\n",
       "      <td>https://enciclopedia.itaucultural.org.br//obra...</td>\n",
       "    </tr>\n",
       "    <tr>\n",
       "      <th>20</th>\n",
       "      <td>https://d3swacfcujrr1g.cloudfront.net/img/uplo...</td>\n",
       "      <td>Longo Caminho de um Rapaz Apaixonado</td>\n",
       "      <td>1989</td>\n",
       "      <td>Tinta preta e ecoline sobre papel</td>\n",
       "      <td>https://enciclopedia.itaucultural.org.br//obra...</td>\n",
       "    </tr>\n",
       "    <tr>\n",
       "      <th>21</th>\n",
       "      <td>https://d3swacfcujrr1g.cloudfront.net/img/uplo...</td>\n",
       "      <td>Mar do Japão</td>\n",
       "      <td>1990</td>\n",
       "      <td>Acrílica sobre tela</td>\n",
       "      <td>https://enciclopedia.itaucultural.org.br//obra...</td>\n",
       "    </tr>\n",
       "    <tr>\n",
       "      <th>22</th>\n",
       "      <td>https://d3swacfcujrr1g.cloudfront.net/img/uplo...</td>\n",
       "      <td>Na Neblina, o Bom Piloto</td>\n",
       "      <td>1982</td>\n",
       "      <td>Acrílica sobre lona</td>\n",
       "      <td>https://enciclopedia.itaucultural.org.br//obra...</td>\n",
       "    </tr>\n",
       "    <tr>\n",
       "      <th>23</th>\n",
       "      <td>https://d3swacfcujrr1g.cloudfront.net/img/uplo...</td>\n",
       "      <td>O Homem Certo com o Molde Certo</td>\n",
       "      <td>Nanquim e aquarela sobre papel</td>\n",
       "      <td></td>\n",
       "      <td>https://enciclopedia.itaucultural.org.br//obra...</td>\n",
       "    </tr>\n",
       "    <tr>\n",
       "      <th>24</th>\n",
       "      <td>https://d3swacfcujrr1g.cloudfront.net/img/uplo...</td>\n",
       "      <td>O Ilha</td>\n",
       "      <td>1990</td>\n",
       "      <td>Bordado sobre tela com aplicação de metal</td>\n",
       "      <td>https://enciclopedia.itaucultural.org.br//obra...</td>\n",
       "    </tr>\n",
       "    <tr>\n",
       "      <th>25</th>\n",
       "      <td>https://d3swacfcujrr1g.cloudfront.net/img/uplo...</td>\n",
       "      <td>O Mentiroso</td>\n",
       "      <td>1992</td>\n",
       "      <td>Bordado sobre sacola em tecido</td>\n",
       "      <td>https://enciclopedia.itaucultural.org.br//obra...</td>\n",
       "    </tr>\n",
       "    <tr>\n",
       "      <th>26</th>\n",
       "      <td>https://d3swacfcujrr1g.cloudfront.net/img/uplo...</td>\n",
       "      <td>O Perigoso</td>\n",
       "      <td>1992</td>\n",
       "      <td>Tinta preta a pena sobre papel</td>\n",
       "      <td>https://enciclopedia.itaucultural.org.br//obra...</td>\n",
       "    </tr>\n",
       "    <tr>\n",
       "      <th>27</th>\n",
       "      <td>https://d3swacfcujrr1g.cloudfront.net/img/uplo...</td>\n",
       "      <td>O Pescador de palavras</td>\n",
       "      <td>1986</td>\n",
       "      <td>Acrílica sobre lona</td>\n",
       "      <td>https://enciclopedia.itaucultural.org.br//obra...</td>\n",
       "    </tr>\n",
       "    <tr>\n",
       "      <th>28</th>\n",
       "      <td>https://d3swacfcujrr1g.cloudfront.net/img/uplo...</td>\n",
       "      <td>O que nos une, o que nos separa</td>\n",
       "      <td>1990</td>\n",
       "      <td>Guache e nanquim sobre papel</td>\n",
       "      <td>https://enciclopedia.itaucultural.org.br//obra...</td>\n",
       "    </tr>\n",
       "    <tr>\n",
       "      <th>29</th>\n",
       "      <td>https://d3swacfcujrr1g.cloudfront.net/img/uplo...</td>\n",
       "      <td>O que você desejar, o que você quiser, eu esto...</td>\n",
       "      <td>1990</td>\n",
       "      <td>Costura e bordado sobre voile e cabide de cobre</td>\n",
       "      <td>https://enciclopedia.itaucultural.org.br//obra...</td>\n",
       "    </tr>\n",
       "    <tr>\n",
       "      <th>30</th>\n",
       "      <td>https://d3swacfcujrr1g.cloudfront.net/img/uplo...</td>\n",
       "      <td>O Recruta, o Aranha, o Penélope</td>\n",
       "      <td>1992</td>\n",
       "      <td>Bordado sobre feltro</td>\n",
       "      <td>https://enciclopedia.itaucultural.org.br//obra...</td>\n",
       "    </tr>\n",
       "    <tr>\n",
       "      <th>31</th>\n",
       "      <td>https://d3swacfcujrr1g.cloudfront.net/img/uplo...</td>\n",
       "      <td>O Transatlântico</td>\n",
       "      <td>1990</td>\n",
       "      <td>Acrílica e lápis sobre lona</td>\n",
       "      <td>https://enciclopedia.itaucultural.org.br//obra...</td>\n",
       "    </tr>\n",
       "    <tr>\n",
       "      <th>32</th>\n",
       "      <td>https://d3swacfcujrr1g.cloudfront.net/img/uplo...</td>\n",
       "      <td>Objetos de Marte</td>\n",
       "      <td>1987</td>\n",
       "      <td>Acrílica sobre lona</td>\n",
       "      <td>https://enciclopedia.itaucultural.org.br//obra...</td>\n",
       "    </tr>\n",
       "    <tr>\n",
       "      <th>33</th>\n",
       "      <td>https://d3swacfcujrr1g.cloudfront.net/img/uplo...</td>\n",
       "      <td>Os Pensamentos do Coração</td>\n",
       "      <td>1988</td>\n",
       "      <td>Acrílica sobre lona</td>\n",
       "      <td>https://enciclopedia.itaucultural.org.br//obra...</td>\n",
       "    </tr>\n",
       "    <tr>\n",
       "      <th>34</th>\n",
       "      <td>https://d3swacfcujrr1g.cloudfront.net/img/uplo...</td>\n",
       "      <td>Os Rios por meu fluido entrego meu coração</td>\n",
       "      <td>1991</td>\n",
       "      <td>Acrílica sobre lona</td>\n",
       "      <td>https://enciclopedia.itaucultural.org.br//obra...</td>\n",
       "    </tr>\n",
       "    <tr>\n",
       "      <th>35</th>\n",
       "      <td>https://d3swacfcujrr1g.cloudfront.net/img/uplo...</td>\n",
       "      <td>Pequeno Reino</td>\n",
       "      <td>1988</td>\n",
       "      <td>Acrílica e tinta preta a pena sobre papel cola...</td>\n",
       "      <td>https://enciclopedia.itaucultural.org.br//obra...</td>\n",
       "    </tr>\n",
       "    <tr>\n",
       "      <th>36</th>\n",
       "      <td>https://d3swacfcujrr1g.cloudfront.net/img/uplo...</td>\n",
       "      <td>Possibilidade, Importância, Atitude</td>\n",
       "      <td>1989</td>\n",
       "      <td>Acrílica sobre tela</td>\n",
       "      <td>https://enciclopedia.itaucultural.org.br//obra...</td>\n",
       "    </tr>\n",
       "    <tr>\n",
       "      <th>37</th>\n",
       "      <td>https://d3swacfcujrr1g.cloudfront.net/img/uplo...</td>\n",
       "      <td>Provas de Amor</td>\n",
       "      <td>1991</td>\n",
       "      <td>Bordado sobre talagarça e voile</td>\n",
       "      <td>https://enciclopedia.itaucultural.org.br//obra...</td>\n",
       "    </tr>\n",
       "    <tr>\n",
       "      <th>38</th>\n",
       "      <td>https://d3swacfcujrr1g.cloudfront.net/img/uplo...</td>\n",
       "      <td>Quelle</td>\n",
       "      <td>1989</td>\n",
       "      <td>Acrílica sobre lona</td>\n",
       "      <td>https://enciclopedia.itaucultural.org.br//obra...</td>\n",
       "    </tr>\n",
       "    <tr>\n",
       "      <th>39</th>\n",
       "      <td>https://d3swacfcujrr1g.cloudfront.net/img/uplo...</td>\n",
       "      <td>Quem Morre Comigo</td>\n",
       "      <td>1983</td>\n",
       "      <td>Acrílica sobre napa</td>\n",
       "      <td>https://enciclopedia.itaucultural.org.br//obra...</td>\n",
       "    </tr>\n",
       "    <tr>\n",
       "      <th>40</th>\n",
       "      <td>https://d3swacfcujrr1g.cloudfront.net/img/uplo...</td>\n",
       "      <td>Rapaz com a Cabeça Londe Demais para Pensar</td>\n",
       "      <td>1989</td>\n",
       "      <td>Esferográfica e lápis de cor sobre papel</td>\n",
       "      <td>https://enciclopedia.itaucultural.org.br//obra...</td>\n",
       "    </tr>\n",
       "    <tr>\n",
       "      <th>41</th>\n",
       "      <td>https://d3swacfcujrr1g.cloudfront.net/img/uplo...</td>\n",
       "      <td>Redemoinhos</td>\n",
       "      <td>1985</td>\n",
       "      <td>Acrílica sobre tela</td>\n",
       "      <td>https://enciclopedia.itaucultural.org.br//obra...</td>\n",
       "    </tr>\n",
       "    <tr>\n",
       "      <th>42</th>\n",
       "      <td>https://d3swacfcujrr1g.cloudfront.net/img/uplo...</td>\n",
       "      <td>Rios de Palavras</td>\n",
       "      <td>1987</td>\n",
       "      <td>Acrílica sobre lona</td>\n",
       "      <td>https://enciclopedia.itaucultural.org.br//obra...</td>\n",
       "    </tr>\n",
       "    <tr>\n",
       "      <th>43</th>\n",
       "      <td>https://d3swacfcujrr1g.cloudfront.net/img/uplo...</td>\n",
       "      <td>São Tantas as Verdades</td>\n",
       "      <td>1988</td>\n",
       "      <td>Acrílica, pedras semi preciosas bordadas e fio...</td>\n",
       "      <td>https://enciclopedia.itaucultural.org.br//obra...</td>\n",
       "    </tr>\n",
       "    <tr>\n",
       "      <th>44</th>\n",
       "      <td>https://d3swacfcujrr1g.cloudfront.net/img/uplo...</td>\n",
       "      <td>Sem Título</td>\n",
       "      <td>1990</td>\n",
       "      <td>Acrílica sobre tela</td>\n",
       "      <td>https://enciclopedia.itaucultural.org.br//obra...</td>\n",
       "    </tr>\n",
       "    <tr>\n",
       "      <th>45</th>\n",
       "      <td>https://d3swacfcujrr1g.cloudfront.net/img/uplo...</td>\n",
       "      <td>Sem Título</td>\n",
       "      <td>1987</td>\n",
       "      <td>Acrílica sobre lona</td>\n",
       "      <td>https://enciclopedia.itaucultural.org.br//obra...</td>\n",
       "    </tr>\n",
       "    <tr>\n",
       "      <th>46</th>\n",
       "      <td>https://d3swacfcujrr1g.cloudfront.net/img/uplo...</td>\n",
       "      <td>Sem Título</td>\n",
       "      <td>1983</td>\n",
       "      <td>Guache sobre papel</td>\n",
       "      <td>https://enciclopedia.itaucultural.org.br//obra...</td>\n",
       "    </tr>\n",
       "    <tr>\n",
       "      <th>47</th>\n",
       "      <td>https://d3swacfcujrr1g.cloudfront.net/img/uplo...</td>\n",
       "      <td>Sem Título</td>\n",
       "      <td>1983</td>\n",
       "      <td>Guache sobre papel</td>\n",
       "      <td>https://enciclopedia.itaucultural.org.br//obra...</td>\n",
       "    </tr>\n",
       "    <tr>\n",
       "      <th>48</th>\n",
       "      <td>https://d3swacfcujrr1g.cloudfront.net/img/uplo...</td>\n",
       "      <td>Sem Título</td>\n",
       "      <td>1983</td>\n",
       "      <td>Guache sobre papel</td>\n",
       "      <td>https://enciclopedia.itaucultural.org.br//obra...</td>\n",
       "    </tr>\n",
       "    <tr>\n",
       "      <th>49</th>\n",
       "      <td>https://d3swacfcujrr1g.cloudfront.net/img/uplo...</td>\n",
       "      <td>Sem Título</td>\n",
       "      <td>1983</td>\n",
       "      <td>Acrílica sobre tecido</td>\n",
       "      <td>https://enciclopedia.itaucultural.org.br//obra...</td>\n",
       "    </tr>\n",
       "    <tr>\n",
       "      <th>50</th>\n",
       "      <td>https://d3swacfcujrr1g.cloudfront.net/img/uplo...</td>\n",
       "      <td>Sem Título</td>\n",
       "      <td>1983</td>\n",
       "      <td>Guache sobre papel</td>\n",
       "      <td>https://enciclopedia.itaucultural.org.br//obra...</td>\n",
       "    </tr>\n",
       "    <tr>\n",
       "      <th>51</th>\n",
       "      <td>https://d3swacfcujrr1g.cloudfront.net/img/uplo...</td>\n",
       "      <td>Sem Título</td>\n",
       "      <td>1985</td>\n",
       "      <td>Acrílica sobre lona</td>\n",
       "      <td>https://enciclopedia.itaucultural.org.br//obra...</td>\n",
       "    </tr>\n",
       "    <tr>\n",
       "      <th>52</th>\n",
       "      <td>https://d3swacfcujrr1g.cloudfront.net/img/uplo...</td>\n",
       "      <td>Sem Título</td>\n",
       "      <td>1987</td>\n",
       "      <td>Acrílica sobre tela</td>\n",
       "      <td>https://enciclopedia.itaucultural.org.br//obra...</td>\n",
       "    </tr>\n",
       "    <tr>\n",
       "      <th>53</th>\n",
       "      <td>https://d3swacfcujrr1g.cloudfront.net/img/uplo...</td>\n",
       "      <td>Sem Título</td>\n",
       "      <td>1983</td>\n",
       "      <td>Acrílica sobre tela</td>\n",
       "      <td>https://enciclopedia.itaucultural.org.br//obra...</td>\n",
       "    </tr>\n",
       "    <tr>\n",
       "      <th>54</th>\n",
       "      <td>https://d3swacfcujrr1g.cloudfront.net/img/uplo...</td>\n",
       "      <td>Sem Título</td>\n",
       "      <td>1983</td>\n",
       "      <td>Acrílica e óleo sobre tela</td>\n",
       "      <td>https://enciclopedia.itaucultural.org.br//obra...</td>\n",
       "    </tr>\n",
       "    <tr>\n",
       "      <th>55</th>\n",
       "      <td>https://d3swacfcujrr1g.cloudfront.net/img/uplo...</td>\n",
       "      <td>Sem Título</td>\n",
       "      <td>1987</td>\n",
       "      <td>Acrílica sobre lona</td>\n",
       "      <td>https://enciclopedia.itaucultural.org.br//obra...</td>\n",
       "    </tr>\n",
       "    <tr>\n",
       "      <th>56</th>\n",
       "      <td>https://d3swacfcujrr1g.cloudfront.net/img/uplo...</td>\n",
       "      <td>Shy</td>\n",
       "      <td>1990</td>\n",
       "      <td>Tinta preta a pena e tinta metálica sobre papel</td>\n",
       "      <td>https://enciclopedia.itaucultural.org.br//obra...</td>\n",
       "    </tr>\n",
       "    <tr>\n",
       "      <th>57</th>\n",
       "      <td>https://d3swacfcujrr1g.cloudfront.net/img/uplo...</td>\n",
       "      <td>Sob o Peso dos Meus Amores</td>\n",
       "      <td>1990</td>\n",
       "      <td>Tinta preta e aquarela sobre papel</td>\n",
       "      <td>https://enciclopedia.itaucultural.org.br//obra...</td>\n",
       "    </tr>\n",
       "    <tr>\n",
       "      <th>58</th>\n",
       "      <td>https://d3swacfcujrr1g.cloudfront.net/img/uplo...</td>\n",
       "      <td>Todos os Rios</td>\n",
       "      <td>1989</td>\n",
       "      <td>Acrílica sobre lona</td>\n",
       "      <td>https://enciclopedia.itaucultural.org.br//obra...</td>\n",
       "    </tr>\n",
       "  </tbody>\n",
       "</table>\n",
       "</div>"
      ],
      "text/plain": [
       "                                              img_url  \\\n",
       "0   https://d3swacfcujrr1g.cloudfront.net/img/uplo...   \n",
       "1   https://d3swacfcujrr1g.cloudfront.net/img/uplo...   \n",
       "2   https://d3swacfcujrr1g.cloudfront.net/img/uplo...   \n",
       "3   https://d3swacfcujrr1g.cloudfront.net/img/uplo...   \n",
       "4   https://d3swacfcujrr1g.cloudfront.net/img/uplo...   \n",
       "5   https://d3swacfcujrr1g.cloudfront.net/img/uplo...   \n",
       "6   https://d3swacfcujrr1g.cloudfront.net/img/uplo...   \n",
       "7   https://d3swacfcujrr1g.cloudfront.net/img/uplo...   \n",
       "8   https://d3swacfcujrr1g.cloudfront.net/img/uplo...   \n",
       "9   https://d3swacfcujrr1g.cloudfront.net/img/uplo...   \n",
       "10  https://d3swacfcujrr1g.cloudfront.net/img/uplo...   \n",
       "11  https://d3swacfcujrr1g.cloudfront.net/img/uplo...   \n",
       "12  https://d3swacfcujrr1g.cloudfront.net/img/uplo...   \n",
       "13  https://d3swacfcujrr1g.cloudfront.net/img/uplo...   \n",
       "14  https://d3swacfcujrr1g.cloudfront.net/img/uplo...   \n",
       "15  https://d3swacfcujrr1g.cloudfront.net/img/uplo...   \n",
       "16  https://d3swacfcujrr1g.cloudfront.net/img/uplo...   \n",
       "17  https://d3swacfcujrr1g.cloudfront.net/img/uplo...   \n",
       "18  https://d3swacfcujrr1g.cloudfront.net/img/uplo...   \n",
       "19  https://d3swacfcujrr1g.cloudfront.net/img/uplo...   \n",
       "20  https://d3swacfcujrr1g.cloudfront.net/img/uplo...   \n",
       "21  https://d3swacfcujrr1g.cloudfront.net/img/uplo...   \n",
       "22  https://d3swacfcujrr1g.cloudfront.net/img/uplo...   \n",
       "23  https://d3swacfcujrr1g.cloudfront.net/img/uplo...   \n",
       "24  https://d3swacfcujrr1g.cloudfront.net/img/uplo...   \n",
       "25  https://d3swacfcujrr1g.cloudfront.net/img/uplo...   \n",
       "26  https://d3swacfcujrr1g.cloudfront.net/img/uplo...   \n",
       "27  https://d3swacfcujrr1g.cloudfront.net/img/uplo...   \n",
       "28  https://d3swacfcujrr1g.cloudfront.net/img/uplo...   \n",
       "29  https://d3swacfcujrr1g.cloudfront.net/img/uplo...   \n",
       "30  https://d3swacfcujrr1g.cloudfront.net/img/uplo...   \n",
       "31  https://d3swacfcujrr1g.cloudfront.net/img/uplo...   \n",
       "32  https://d3swacfcujrr1g.cloudfront.net/img/uplo...   \n",
       "33  https://d3swacfcujrr1g.cloudfront.net/img/uplo...   \n",
       "34  https://d3swacfcujrr1g.cloudfront.net/img/uplo...   \n",
       "35  https://d3swacfcujrr1g.cloudfront.net/img/uplo...   \n",
       "36  https://d3swacfcujrr1g.cloudfront.net/img/uplo...   \n",
       "37  https://d3swacfcujrr1g.cloudfront.net/img/uplo...   \n",
       "38  https://d3swacfcujrr1g.cloudfront.net/img/uplo...   \n",
       "39  https://d3swacfcujrr1g.cloudfront.net/img/uplo...   \n",
       "40  https://d3swacfcujrr1g.cloudfront.net/img/uplo...   \n",
       "41  https://d3swacfcujrr1g.cloudfront.net/img/uplo...   \n",
       "42  https://d3swacfcujrr1g.cloudfront.net/img/uplo...   \n",
       "43  https://d3swacfcujrr1g.cloudfront.net/img/uplo...   \n",
       "44  https://d3swacfcujrr1g.cloudfront.net/img/uplo...   \n",
       "45  https://d3swacfcujrr1g.cloudfront.net/img/uplo...   \n",
       "46  https://d3swacfcujrr1g.cloudfront.net/img/uplo...   \n",
       "47  https://d3swacfcujrr1g.cloudfront.net/img/uplo...   \n",
       "48  https://d3swacfcujrr1g.cloudfront.net/img/uplo...   \n",
       "49  https://d3swacfcujrr1g.cloudfront.net/img/uplo...   \n",
       "50  https://d3swacfcujrr1g.cloudfront.net/img/uplo...   \n",
       "51  https://d3swacfcujrr1g.cloudfront.net/img/uplo...   \n",
       "52  https://d3swacfcujrr1g.cloudfront.net/img/uplo...   \n",
       "53  https://d3swacfcujrr1g.cloudfront.net/img/uplo...   \n",
       "54  https://d3swacfcujrr1g.cloudfront.net/img/uplo...   \n",
       "55  https://d3swacfcujrr1g.cloudfront.net/img/uplo...   \n",
       "56  https://d3swacfcujrr1g.cloudfront.net/img/uplo...   \n",
       "57  https://d3swacfcujrr1g.cloudfront.net/img/uplo...   \n",
       "58  https://d3swacfcujrr1g.cloudfront.net/img/uplo...   \n",
       "\n",
       "                                                title  \\\n",
       "0                             A Consequência do Sonho   \n",
       "1                                            As Fadas   \n",
       "2                               As Montanhas ao Longe   \n",
       "3                          Cada Delícia Tem Seu Preço   \n",
       "4                                             Chapéus   \n",
       "5                                        Cheio, Vazio   \n",
       "6                          Converso no Seio de Cristo   \n",
       "7                                         El Desierto   \n",
       "8                                           El Puerto   \n",
       "9                                             Estádio   \n",
       "10                            Homem com Fogo nas Mãos   \n",
       "11                       Instalação Capela do Morumbi   \n",
       "12                                           J.L.B.D.   \n",
       "13                         Jesus com Rapaz Acidentado   \n",
       "14                                    Jogos Perigosos   \n",
       "15                                               José   \n",
       "16                                      Las ILusiones   \n",
       "17                     Leo Não Consegue Mudar o Mundo   \n",
       "18                                        Les Moments   \n",
       "19                                         Lisiantros   \n",
       "20               Longo Caminho de um Rapaz Apaixonado   \n",
       "21                                       Mar do Japão   \n",
       "22                           Na Neblina, o Bom Piloto   \n",
       "23                    O Homem Certo com o Molde Certo   \n",
       "24                                             O Ilha   \n",
       "25                                        O Mentiroso   \n",
       "26                                         O Perigoso   \n",
       "27                             O Pescador de palavras   \n",
       "28                    O que nos une, o que nos separa   \n",
       "29  O que você desejar, o que você quiser, eu esto...   \n",
       "30                    O Recruta, o Aranha, o Penélope   \n",
       "31                                   O Transatlântico   \n",
       "32                                   Objetos de Marte   \n",
       "33                          Os Pensamentos do Coração   \n",
       "34         Os Rios por meu fluido entrego meu coração   \n",
       "35                                      Pequeno Reino   \n",
       "36                Possibilidade, Importância, Atitude   \n",
       "37                                     Provas de Amor   \n",
       "38                                             Quelle   \n",
       "39                                  Quem Morre Comigo   \n",
       "40        Rapaz com a Cabeça Londe Demais para Pensar   \n",
       "41                                        Redemoinhos   \n",
       "42                                   Rios de Palavras   \n",
       "43                             São Tantas as Verdades   \n",
       "44                                         Sem Título   \n",
       "45                                         Sem Título   \n",
       "46                                         Sem Título   \n",
       "47                                         Sem Título   \n",
       "48                                         Sem Título   \n",
       "49                                         Sem Título   \n",
       "50                                         Sem Título   \n",
       "51                                         Sem Título   \n",
       "52                                         Sem Título   \n",
       "53                                         Sem Título   \n",
       "54                                         Sem Título   \n",
       "55                                         Sem Título   \n",
       "56                                                Shy   \n",
       "57                         Sob o Peso dos Meus Amores   \n",
       "58                                      Todos os Rios   \n",
       "\n",
       "                              year  \\\n",
       "0                             1987   \n",
       "1                             1992   \n",
       "2                             1989   \n",
       "3                             1988   \n",
       "4                             1983   \n",
       "5                             1993   \n",
       "6                             1993   \n",
       "7                             1991   \n",
       "8                             1992   \n",
       "9                             1983   \n",
       "10                            1990   \n",
       "11                            1993   \n",
       "12                            1993   \n",
       "13                            1991   \n",
       "14                            1990   \n",
       "15                            1991   \n",
       "16                            1991   \n",
       "17                            1989   \n",
       "18                            1992   \n",
       "19                            1992   \n",
       "20                            1989   \n",
       "21                            1990   \n",
       "22                            1982   \n",
       "23  Nanquim e aquarela sobre papel   \n",
       "24                            1990   \n",
       "25                            1992   \n",
       "26                            1992   \n",
       "27                            1986   \n",
       "28                            1990   \n",
       "29                            1990   \n",
       "30                            1992   \n",
       "31                            1990   \n",
       "32                            1987   \n",
       "33                            1988   \n",
       "34                            1991   \n",
       "35                            1988   \n",
       "36                            1989   \n",
       "37                            1991   \n",
       "38                            1989   \n",
       "39                            1983   \n",
       "40                            1989   \n",
       "41                            1985   \n",
       "42                            1987   \n",
       "43                            1988   \n",
       "44                            1990   \n",
       "45                            1987   \n",
       "46                            1983   \n",
       "47                            1983   \n",
       "48                            1983   \n",
       "49                            1983   \n",
       "50                            1983   \n",
       "51                            1985   \n",
       "52                            1987   \n",
       "53                            1983   \n",
       "54                            1983   \n",
       "55                            1987   \n",
       "56                            1990   \n",
       "57                            1990   \n",
       "58                            1989   \n",
       "\n",
       "                                                 info  \\\n",
       "0                                 Acrílica sobre tela   \n",
       "1                      Tinta preta a pena sobre papel   \n",
       "2                      Aquarela e nanquim sobre papel   \n",
       "3                                 Acrílica sobre lona   \n",
       "4                      Acrílica sobre tecido listrado   \n",
       "5             Bordado sobre voile e tecido de algodão   \n",
       "6                                 Nanquim sobre papel   \n",
       "7                                Bordado sobre feltro   \n",
       "8   Bordado sobre tecido de algodão e espelho emol...   \n",
       "9                                 Acrílica sobre tela   \n",
       "10                                Acrílico sobre lona   \n",
       "11  Bordado sobre tecido de algodão e sobre camisa...   \n",
       "12                               Bordado sobre veludo   \n",
       "13                     Tinta preta a pena sobre papel   \n",
       "14                                Acrílica sobre tela   \n",
       "15                 Bordado em linha preta sobre voile   \n",
       "16                                Nanquim sobre papel   \n",
       "17                                Acrílica sobre lona   \n",
       "18                               Bordado sobre feltro   \n",
       "19                     Tinta preta a pena sobre papel   \n",
       "20                  Tinta preta e ecoline sobre papel   \n",
       "21                                Acrílica sobre tela   \n",
       "22                                Acrílica sobre lona   \n",
       "23                                                      \n",
       "24          Bordado sobre tela com aplicação de metal   \n",
       "25                     Bordado sobre sacola em tecido   \n",
       "26                     Tinta preta a pena sobre papel   \n",
       "27                                Acrílica sobre lona   \n",
       "28                       Guache e nanquim sobre papel   \n",
       "29    Costura e bordado sobre voile e cabide de cobre   \n",
       "30                               Bordado sobre feltro   \n",
       "31                        Acrílica e lápis sobre lona   \n",
       "32                                Acrílica sobre lona   \n",
       "33                                Acrílica sobre lona   \n",
       "34                                Acrílica sobre lona   \n",
       "35  Acrílica e tinta preta a pena sobre papel cola...   \n",
       "36                                Acrílica sobre tela   \n",
       "37                    Bordado sobre talagarça e voile   \n",
       "38                                Acrílica sobre lona   \n",
       "39                                Acrílica sobre napa   \n",
       "40           Esferográfica e lápis de cor sobre papel   \n",
       "41                                Acrílica sobre tela   \n",
       "42                                Acrílica sobre lona   \n",
       "43  Acrílica, pedras semi preciosas bordadas e fio...   \n",
       "44                                Acrílica sobre tela   \n",
       "45                                Acrílica sobre lona   \n",
       "46                                 Guache sobre papel   \n",
       "47                                 Guache sobre papel   \n",
       "48                                 Guache sobre papel   \n",
       "49                              Acrílica sobre tecido   \n",
       "50                                 Guache sobre papel   \n",
       "51                                Acrílica sobre lona   \n",
       "52                                Acrílica sobre tela   \n",
       "53                                Acrílica sobre tela   \n",
       "54                         Acrílica e óleo sobre tela   \n",
       "55                                Acrílica sobre lona   \n",
       "56    Tinta preta a pena e tinta metálica sobre papel   \n",
       "57                 Tinta preta e aquarela sobre papel   \n",
       "58                                Acrílica sobre lona   \n",
       "\n",
       "                                                  url  \n",
       "0   https://enciclopedia.itaucultural.org.br//obra...  \n",
       "1   https://enciclopedia.itaucultural.org.br//obra...  \n",
       "2   https://enciclopedia.itaucultural.org.br//obra...  \n",
       "3   https://enciclopedia.itaucultural.org.br//obra...  \n",
       "4   https://enciclopedia.itaucultural.org.br//obra...  \n",
       "5   https://enciclopedia.itaucultural.org.br//obra...  \n",
       "6   https://enciclopedia.itaucultural.org.br//obra...  \n",
       "7   https://enciclopedia.itaucultural.org.br//obra...  \n",
       "8   https://enciclopedia.itaucultural.org.br//obra...  \n",
       "9   https://enciclopedia.itaucultural.org.br//obra...  \n",
       "10  https://enciclopedia.itaucultural.org.br//obra...  \n",
       "11  https://enciclopedia.itaucultural.org.br//obra...  \n",
       "12  https://enciclopedia.itaucultural.org.br//obra...  \n",
       "13  https://enciclopedia.itaucultural.org.br//obra...  \n",
       "14  https://enciclopedia.itaucultural.org.br//obra...  \n",
       "15  https://enciclopedia.itaucultural.org.br//obra...  \n",
       "16  https://enciclopedia.itaucultural.org.br//obra...  \n",
       "17  https://enciclopedia.itaucultural.org.br//obra...  \n",
       "18  https://enciclopedia.itaucultural.org.br//obra...  \n",
       "19  https://enciclopedia.itaucultural.org.br//obra...  \n",
       "20  https://enciclopedia.itaucultural.org.br//obra...  \n",
       "21  https://enciclopedia.itaucultural.org.br//obra...  \n",
       "22  https://enciclopedia.itaucultural.org.br//obra...  \n",
       "23  https://enciclopedia.itaucultural.org.br//obra...  \n",
       "24  https://enciclopedia.itaucultural.org.br//obra...  \n",
       "25  https://enciclopedia.itaucultural.org.br//obra...  \n",
       "26  https://enciclopedia.itaucultural.org.br//obra...  \n",
       "27  https://enciclopedia.itaucultural.org.br//obra...  \n",
       "28  https://enciclopedia.itaucultural.org.br//obra...  \n",
       "29  https://enciclopedia.itaucultural.org.br//obra...  \n",
       "30  https://enciclopedia.itaucultural.org.br//obra...  \n",
       "31  https://enciclopedia.itaucultural.org.br//obra...  \n",
       "32  https://enciclopedia.itaucultural.org.br//obra...  \n",
       "33  https://enciclopedia.itaucultural.org.br//obra...  \n",
       "34  https://enciclopedia.itaucultural.org.br//obra...  \n",
       "35  https://enciclopedia.itaucultural.org.br//obra...  \n",
       "36  https://enciclopedia.itaucultural.org.br//obra...  \n",
       "37  https://enciclopedia.itaucultural.org.br//obra...  \n",
       "38  https://enciclopedia.itaucultural.org.br//obra...  \n",
       "39  https://enciclopedia.itaucultural.org.br//obra...  \n",
       "40  https://enciclopedia.itaucultural.org.br//obra...  \n",
       "41  https://enciclopedia.itaucultural.org.br//obra...  \n",
       "42  https://enciclopedia.itaucultural.org.br//obra...  \n",
       "43  https://enciclopedia.itaucultural.org.br//obra...  \n",
       "44  https://enciclopedia.itaucultural.org.br//obra...  \n",
       "45  https://enciclopedia.itaucultural.org.br//obra...  \n",
       "46  https://enciclopedia.itaucultural.org.br//obra...  \n",
       "47  https://enciclopedia.itaucultural.org.br//obra...  \n",
       "48  https://enciclopedia.itaucultural.org.br//obra...  \n",
       "49  https://enciclopedia.itaucultural.org.br//obra...  \n",
       "50  https://enciclopedia.itaucultural.org.br//obra...  \n",
       "51  https://enciclopedia.itaucultural.org.br//obra...  \n",
       "52  https://enciclopedia.itaucultural.org.br//obra...  \n",
       "53  https://enciclopedia.itaucultural.org.br//obra...  \n",
       "54  https://enciclopedia.itaucultural.org.br//obra...  \n",
       "55  https://enciclopedia.itaucultural.org.br//obra...  \n",
       "56  https://enciclopedia.itaucultural.org.br//obra...  \n",
       "57  https://enciclopedia.itaucultural.org.br//obra...  \n",
       "58  https://enciclopedia.itaucultural.org.br//obra...  "
      ]
     },
     "execution_count": 3,
     "metadata": {},
     "output_type": "execute_result"
    }
   ],
   "source": [
    "dataframe_obras = pd.DataFrame(obras)\n",
    "dataframe_obras"
   ]
  },
  {
   "cell_type": "code",
   "execution_count": 4,
   "metadata": {
    "id": "GJBlt-91Z2Li"
   },
   "outputs": [],
   "source": [
    "dataframe_obras.iloc[23]['info'] = 'Nanquim e aquarela sobre papel'\n",
    "dataframe_obras.iloc[23]['year'] = ''\n",
    "\n",
    "# dataframe_obras\n",
    "dataframe_obras.to_csv('obras_Leonilson.csv')"
   ]
  },
  {
   "cell_type": "code",
   "execution_count": 5,
   "metadata": {
    "colab": {
     "base_uri": "https://localhost:8080/"
    },
    "id": "B4CNWRC9Ne8W",
    "outputId": "dfd7eafd-c92c-47c7-e8d0-bb5a041d3843"
   },
   "outputs": [
    {
     "data": {
      "text/plain": [
       "img_url  title  year   info   url  \n",
       "False    False  False  False  False    59\n",
       "dtype: int64"
      ]
     },
     "execution_count": 5,
     "metadata": {},
     "output_type": "execute_result"
    }
   ],
   "source": [
    "dataframe_obras.isna().value_counts()"
   ]
  },
  {
   "cell_type": "code",
   "execution_count": null,
   "metadata": {
    "id": "M9JB61RiOfMf"
   },
   "outputs": [],
   "source": []
  },
  {
   "cell_type": "markdown",
   "metadata": {
    "id": "xxeF-jMfOlEh"
   },
   "source": [
    "## Exposições"
   ]
  },
  {
   "cell_type": "code",
   "execution_count": null,
   "metadata": {
    "colab": {
     "base_uri": "https://localhost:8080/"
    },
    "id": "fEC3OjNxOm08",
    "outputId": "fc05ddad-c09f-4b03-d39c-a11d07a2b9f5"
   },
   "outputs": [
    {
     "name": "stdout",
     "output_type": "stream",
     "text": [
      "página: 1, obras coletadas: 18\n",
      "página: 2, obras coletadas: 18\n",
      "página: 3, obras coletadas: 18\n",
      "página: 4, obras coletadas: 18\n",
      "página: 5, obras coletadas: 18\n",
      "página: 6, obras coletadas: 18\n",
      "página: 7, obras coletadas: 18\n",
      "página: 8, obras coletadas: 18\n",
      "página: 9, obras coletadas: 18\n",
      "página: 10, obras coletadas: 18\n"
     ]
    }
   ],
   "source": [
    "exposicoes = []\n",
    "\n",
    "for i in range(1,16):\n",
    "  url = f'https://enciclopedia.itaucultural.org.br/pessoa8742/leonilson/eventos?classificacao=exposicao&p={i}'\n",
    "  page_info=urlopen(url)\n",
    "  soup = BeautifulSoup(page_info, 'html.parser')\n",
    "  data = soup.find('div', \"container articles-wrap p-0\")\n",
    "  children = data.findChildren(\"article\" , recursive=False)\n",
    "  print(f'página: {i}, obras coletadas: {len(children)}')\n",
    "\n",
    "  for c in children:\n",
    "    elm = c.findChildren(\"h2\",'border-top-3 pt-1')[0].findChildren('a','')[0]\n",
    "    title = elm.text\n",
    "    url = 'https://enciclopedia.itaucultural.org.br' + elm.attrs['href']\n",
    "\n",
    "\n",
    "    page_detail =urlopen(url)\n",
    "    soup_detail = BeautifulSoup(page_detail, 'html.parser')\n",
    "    info_detail = soup_detail.find('div', \"mb-1\").text.split('\\n')\n",
    "    data_detail = info_detail[1]\n",
    "    split2 = info_detail[2].replace('            ','').split('–')\n",
    "    # cidade, local = \n",
    "    cidade_detail = split2[0]\n",
    "    local_detail = ''\n",
    "    if len(split2)>1:\n",
    "      local_detail = split2[1]\n",
    "\n",
    "    tipo_evento = soup_detail.find('aside' '').findChildren(\"li\" , recursive=True)[3].text\n",
    "    \n",
    "    date = c.findChildren(\"strong\",'')[0].text.replace('.','/')\n",
    "    exposicoes.append({'title':title, 'date':date,'url':url,'data_page_datail':data_detail, 'cidade':cidade_detail,'local':local_detail,'tipo_evento':tipo_evento})\n",
    "\n",
    "\n",
    "print(f'Total coletado: {len(exposicoes)}')"
   ]
  },
  {
   "cell_type": "code",
   "execution_count": null,
   "metadata": {
    "colab": {
     "base_uri": "https://localhost:8080/",
     "height": 693
    },
    "id": "gp5yhGwrRDKY",
    "outputId": "554a509a-ad7d-4ad8-b1fe-ba8f0e6de786"
   },
   "outputs": [],
   "source": [
    "dataframe_exp = pd.DataFrame(exposicoes)\n",
    "dataframe_exp"
   ]
  },
  {
   "cell_type": "code",
   "execution_count": null,
   "metadata": {
    "id": "rXmm9M3-cfNQ"
   },
   "outputs": [],
   "source": [
    "# dataframe_exp.iloc[15]['tipo_evento'] = 'Coletiva'\n",
    "# dataframe_exp.iloc[11]['tipo_evento'] = 'Coletiva'\n",
    "# dataframe_exp.iloc[38]['tipo_evento'] = 'Coletiva'\n",
    "# dataframe_exp.iloc[39]['tipo_evento'] = 'Coletiva'\n",
    "# dataframe_exp.iloc[44]['tipo_evento'] = 'Coletiva'\n",
    "# dataframe_exp.iloc[59]['tipo_evento'] = 'Coletiva'\n",
    "# dataframe_exp.iloc[62]['tipo_evento'] = 'Coletiva'\n",
    "# dataframe_exp.iloc[65]['tipo_evento'] = 'Coletiva'"
   ]
  },
  {
   "cell_type": "code",
   "execution_count": null,
   "metadata": {
    "id": "YPCPGvVMc4wx"
   },
   "outputs": [],
   "source": [
    "# dataframe_exp.iloc[65]['url']"
   ]
  },
  {
   "cell_type": "code",
   "execution_count": null,
   "metadata": {
    "id": "XNq5SzN5WAH4"
   },
   "outputs": [],
   "source": [
    "dataframe_exp.to_csv('exposicoes_Leonilson.csv')"
   ]
  },
  {
   "cell_type": "code",
   "execution_count": null,
   "metadata": {
    "id": "A9bcpGwIbUjb"
   },
   "outputs": [],
   "source": []
  },
  {
   "cell_type": "markdown",
   "metadata": {
    "id": "N0zE3D9QduJQ"
   },
   "source": [
    "# Análise de dados"
   ]
  },
  {
   "cell_type": "code",
   "execution_count": null,
   "metadata": {
    "id": "UJ8HWC--dvoX"
   },
   "outputs": [],
   "source": []
  },
  {
   "cell_type": "markdown",
   "metadata": {
    "id": "KdiZ-cYzdx-h"
   },
   "source": [
    "## Obras"
   ]
  },
  {
   "cell_type": "code",
   "execution_count": null,
   "metadata": {
    "colab": {
     "base_uri": "https://localhost:8080/"
    },
    "id": "NE4D78GJdynS",
    "outputId": "2a0a19d8-b70d-43c2-dd4b-090f9f5d6340"
   },
   "outputs": [],
   "source": [
    "dataframe_obras['year'].value_counts()"
   ]
  },
  {
   "cell_type": "code",
   "execution_count": null,
   "metadata": {
    "colab": {
     "base_uri": "https://localhost:8080/",
     "height": 365
    },
    "id": "y13W0CDOHoeA",
    "outputId": "96b94768-de46-4874-de36-5b5f8e05e70a"
   },
   "outputs": [],
   "source": [
    "dataframe_obras.loc[dataframe_obras.year=='1989']"
   ]
  },
  {
   "cell_type": "markdown",
   "metadata": {
    "id": "cSf57JQFd1ie"
   },
   "source": [
    "## Exposições"
   ]
  },
  {
   "cell_type": "code",
   "execution_count": null,
   "metadata": {
    "id": "CKiAuVoxd3F2"
   },
   "outputs": [],
   "source": [
    "dataframe_exp = pd.DataFrame(exposicoes)\n",
    "dataframe_exp['len_cidade'] = dataframe_exp['cidade'].apply(lambda x: len(x.split(' / ')))"
   ]
  },
  {
   "cell_type": "code",
   "execution_count": null,
   "metadata": {
    "colab": {
     "base_uri": "https://localhost:8080/",
     "height": 194
    },
    "id": "yxSSsEi_rE7g",
    "outputId": "7af69e58-59a8-4671-a5c5-d66a6c24a87c"
   },
   "outputs": [],
   "source": [
    "dataframe_exp.loc[dataframe_exp.len_cidade == 4]"
   ]
  },
  {
   "cell_type": "code",
   "execution_count": null,
   "metadata": {
    "id": "WLxuNv0krbe9"
   },
   "outputs": [],
   "source": [
    "dataframe_exp.loc[dataframe_exp.len_cidade == 4, 'cidade'] = dataframe_exp['cidade'].str.replace('América do Norte / ','')"
   ]
  },
  {
   "cell_type": "code",
   "execution_count": null,
   "metadata": {
    "colab": {
     "base_uri": "https://localhost:8080/",
     "height": 177
    },
    "id": "zHTFJ9K0rvbd",
    "outputId": "acce754a-a86a-4552-deb3-b766f46a025a"
   },
   "outputs": [],
   "source": [
    "dataframe_exp.loc[dataframe_exp.len_cidade == 4]"
   ]
  },
  {
   "cell_type": "code",
   "execution_count": null,
   "metadata": {
    "colab": {
     "base_uri": "https://localhost:8080/",
     "height": 243
    },
    "id": "xSRdh5VcsbRi",
    "outputId": "6d9ec0b8-4bd1-4abd-fdf8-b97a94fee33a"
   },
   "outputs": [],
   "source": [
    "dataframe_exp.loc[dataframe_exp.len_cidade == 1]"
   ]
  },
  {
   "cell_type": "code",
   "execution_count": null,
   "metadata": {
    "id": "k7RP0bJXssj-"
   },
   "outputs": [],
   "source": [
    "dataframe_exp.iloc[112,dataframe_exp.columns.get_loc('cidade')] = 'Alemanha / - / Leverkusen' \n",
    "dataframe_exp.iloc[112,dataframe_exp.columns.get_loc('local')] = 'Bayer AG - Foyer Hochhaus W1' "
   ]
  },
  {
   "cell_type": "code",
   "execution_count": null,
   "metadata": {
    "id": "zljuJ2iktL8H"
   },
   "outputs": [],
   "source": [
    "dataframe_exp.iloc[114,dataframe_exp.columns.get_loc('cidade')] = 'Alemanha / - / Dormagen' \n",
    "dataframe_exp.iloc[114,dataframe_exp.columns.get_loc('local')] = 'Bayer AG - Feierabendhaus' "
   ]
  },
  {
   "cell_type": "code",
   "execution_count": null,
   "metadata": {
    "colab": {
     "base_uri": "https://localhost:8080/"
    },
    "id": "IxetTKOCq9a4",
    "outputId": "35f473ca-af07-45a9-de25-097c498c373e"
   },
   "outputs": [],
   "source": [
    "dataframe_exp['cidade'].apply(lambda x: len(x.split(' / '))).value_counts()"
   ]
  },
  {
   "cell_type": "code",
   "execution_count": null,
   "metadata": {
    "id": "xzwjf-dfd8sx"
   },
   "outputs": [],
   "source": [
    "dataframe_exp['pais'] = dataframe_exp['cidade'].apply(lambda x: x.split(' / ')[0])\n",
    "dataframe_exp['estado'] = dataframe_exp['cidade'].apply(lambda x: x.split(' / ')[1])\n",
    "dataframe_exp['cidade'] = dataframe_exp['cidade'].apply(lambda x: x.split(' / ')[2])"
   ]
  },
  {
   "cell_type": "code",
   "execution_count": null,
   "metadata": {
    "colab": {
     "base_uri": "https://localhost:8080/",
     "height": 488
    },
    "id": "JRoSourPtmEP",
    "outputId": "0bb4613f-484a-4081-b91f-e6b1cd6e7680"
   },
   "outputs": [],
   "source": [
    "resumo_paises = dataframe_exp['pais'].value_counts().reset_index().iloc[1:]\n",
    "resumo_paises"
   ]
  },
  {
   "cell_type": "code",
   "execution_count": null,
   "metadata": {
    "colab": {
     "base_uri": "https://localhost:8080/",
     "height": 206
    },
    "id": "lnJQ_syg0FN9",
    "outputId": "d9db51dc-92df-40e0-f656-a01aaa96f3fd"
   },
   "outputs": [],
   "source": [
    "resumo_paises.head()"
   ]
  },
  {
   "cell_type": "code",
   "execution_count": null,
   "metadata": {
    "colab": {
     "base_uri": "https://localhost:8080/",
     "height": 331
    },
    "id": "B0T-3fepz5If",
    "outputId": "7141a84b-985a-49ea-9c26-855229a9a3a4"
   },
   "outputs": [],
   "source": [
    "resumo_paises.iloc[5:15]"
   ]
  },
  {
   "cell_type": "code",
   "execution_count": null,
   "metadata": {
    "colab": {
     "base_uri": "https://localhost:8080/",
     "height": 426
    },
    "id": "o4e7v01mto7q",
    "outputId": "ca7e317f-e6d4-4d56-c950-56c7d62d92be"
   },
   "outputs": [],
   "source": [
    "resumo_estado = dataframe_exp.loc[dataframe_exp.pais=='Brasil']['estado'].value_counts().reset_index()\n",
    "resumo_estado.columns = ['estado','quantidade']\n",
    "resumo_estado"
   ]
  },
  {
   "cell_type": "code",
   "execution_count": null,
   "metadata": {
    "colab": {
     "base_uri": "https://localhost:8080/"
    },
    "id": "QdR_v1a8uEfk",
    "outputId": "29e9b294-aab6-4473-c21f-7a2bebe5a3c3"
   },
   "outputs": [],
   "source": [
    "resumo_estado.iloc[5:12]['quantidade'].sum()"
   ]
  },
  {
   "cell_type": "code",
   "execution_count": null,
   "metadata": {
    "colab": {
     "base_uri": "https://localhost:8080/"
    },
    "id": "2HblK7QguVsY",
    "outputId": "de3dbe58-fef8-48d6-c666-a73a2b433b0a"
   },
   "outputs": [],
   "source": [
    "resumo_estado.iloc[0:5]['quantidade'].sum()"
   ]
  },
  {
   "cell_type": "code",
   "execution_count": null,
   "metadata": {
    "colab": {
     "base_uri": "https://localhost:8080/",
     "height": 802
    },
    "id": "nXploHVqt0Nu",
    "outputId": "e19c3a89-521e-4171-e748-c91857392ef5"
   },
   "outputs": [],
   "source": [
    "dataframe_exp.loc[dataframe_exp.pais=='Brasil']['cidade'].value_counts().reset_index()"
   ]
  },
  {
   "cell_type": "code",
   "execution_count": null,
   "metadata": {
    "id": "jTmbNtz5t59z"
   },
   "outputs": [],
   "source": [
    "dataframe_exp['len_date'] = dataframe_exp['date'].apply(lambda x: len(x))"
   ]
  },
  {
   "cell_type": "code",
   "execution_count": null,
   "metadata": {
    "colab": {
     "base_uri": "https://localhost:8080/"
    },
    "id": "EwJG8a4D3BMU",
    "outputId": "cdaf8542-e133-4fe0-af9d-b6ab40f53333"
   },
   "outputs": [],
   "source": [
    "dataframe_exp['len_date'].value_counts()"
   ]
  },
  {
   "cell_type": "code",
   "execution_count": null,
   "metadata": {
    "colab": {
     "base_uri": "https://localhost:8080/",
     "height": 280
    },
    "id": "s0riWdnj3fKK",
    "outputId": "2c5023b1-9951-4b87-e198-4cc88146e512"
   },
   "outputs": [],
   "source": [
    "dataframe_exp.loc[dataframe_exp['len_date']==4].head(2)"
   ]
  },
  {
   "cell_type": "code",
   "execution_count": null,
   "metadata": {
    "colab": {
     "base_uri": "https://localhost:8080/",
     "height": 315
    },
    "id": "7IPAqytV3i9V",
    "outputId": "140dd962-20b0-47d0-dce6-ad1bb565a593"
   },
   "outputs": [],
   "source": [
    "dataframe_exp.loc[dataframe_exp['len_date']==7].head(2)"
   ]
  },
  {
   "cell_type": "code",
   "execution_count": null,
   "metadata": {
    "id": "LsI2wpnn55JN"
   },
   "outputs": [],
   "source": []
  },
  {
   "cell_type": "code",
   "execution_count": null,
   "metadata": {
    "id": "ThUBaTvb3kPy"
   },
   "outputs": [],
   "source": [
    "dataframe_exp['year'] = dataframe_exp['date'].apply(lambda x: x[-4:])"
   ]
  },
  {
   "cell_type": "code",
   "execution_count": null,
   "metadata": {
    "colab": {
     "base_uri": "https://localhost:8080/",
     "height": 423
    },
    "id": "Bb4beMA13yTB",
    "outputId": "ad49a567-5bf3-4f4b-877e-effd4e79465a"
   },
   "outputs": [],
   "source": [
    "dataframe_exp.filter(['year','date'])"
   ]
  },
  {
   "cell_type": "code",
   "execution_count": null,
   "metadata": {
    "colab": {
     "base_uri": "https://localhost:8080/",
     "height": 1000
    },
    "id": "kUWddUyw3zbe",
    "outputId": "3fafc24b-5b30-45de-b088-989e160fc564"
   },
   "outputs": [],
   "source": [
    "resumo_ano = dataframe_exp['year'].value_counts().reset_index()\n",
    "resumo_ano.columns = ['ano','qtd']\n",
    "resumo_ano = resumo_ano.sort_values(by='ano')\n",
    "resumo_ano['cumulativo'] = resumo_ano['qtd'].cumsum()\n",
    "resumo_ano"
   ]
  },
  {
   "cell_type": "code",
   "execution_count": null,
   "metadata": {
    "id": "zL1q3i6F39H_"
   },
   "outputs": [],
   "source": [
    "resumo_ano.to_csv('resumo_ano.csv')"
   ]
  },
  {
   "cell_type": "code",
   "execution_count": null,
   "metadata": {
    "id": "KHGojU-v4OI3"
   },
   "outputs": [],
   "source": [
    "dataframe_exp.loc[dataframe_exp.pais == 'Brasil', 'Categoria'] = 'Brasil'\n",
    "dataframe_exp.loc[dataframe_exp.pais != 'Brasil', 'Categoria'] = 'Exterior'"
   ]
  },
  {
   "cell_type": "code",
   "execution_count": null,
   "metadata": {
    "colab": {
     "base_uri": "https://localhost:8080/"
    },
    "id": "cVQnyjfY6FC_",
    "outputId": "79aaafef-db12-46f3-9257-16dfa0c671a9"
   },
   "outputs": [],
   "source": [
    "dataframe_exp['Categoria'].value_counts()"
   ]
  },
  {
   "cell_type": "code",
   "execution_count": null,
   "metadata": {
    "colab": {
     "base_uri": "https://localhost:8080/",
     "height": 1000
    },
    "id": "MZ2eB3Cs6H4c",
    "outputId": "c3caafa5-58fe-4ccc-fb82-453a6be74f85"
   },
   "outputs": [],
   "source": [
    "resumo_ano_cat = dataframe_exp.groupby(['year','Categoria']).size().reset_index().pivot(index='year', columns='Categoria', values=0).fillna(0)\n",
    "resumo_ano_cat = resumo_ano_cat.reset_index().astype({'Brasil':'int64', 'Exterior': 'int64'})\n",
    "resumo_ano_cat['total'] = resumo_ano_cat['Brasil']+ resumo_ano_cat['Exterior']\n",
    "\n",
    "\n",
    "resumo_ano_cat['cumsum_Brasil'] = resumo_ano_cat['Brasil'].cumsum()\n",
    "resumo_ano_cat['cumsum_Exterior'] = resumo_ano_cat['Exterior'].cumsum()\n",
    "resumo_ano_cat['cumsum_total'] = resumo_ano_cat['total'].cumsum()\n",
    "\n",
    "resumo_ano_cat.to_csv('resumo_ano_tipo.csv', index=False)\n",
    "resumo_ano_cat"
   ]
  },
  {
   "cell_type": "code",
   "execution_count": null,
   "metadata": {
    "id": "B5u0omjG6Ohb"
   },
   "outputs": [],
   "source": []
  }
 ],
 "metadata": {
  "colab": {
   "name": "Leonilson - Coleta de Dados ItauCultural.ipynb",
   "provenance": []
  },
  "kernelspec": {
   "display_name": "Python 3",
   "language": "python",
   "name": "python3"
  },
  "language_info": {
   "codemirror_mode": {
    "name": "ipython",
    "version": 3
   },
   "file_extension": ".py",
   "mimetype": "text/x-python",
   "name": "python",
   "nbconvert_exporter": "python",
   "pygments_lexer": "ipython3",
   "version": "3.7.10"
  }
 },
 "nbformat": 4,
 "nbformat_minor": 1
}
