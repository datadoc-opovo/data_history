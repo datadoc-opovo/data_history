{
 "cells": [
  {
   "cell_type": "markdown",
   "metadata": {
    "id": "QCuYBvgld-pu"
   },
   "source": [
    "# Coleta de dados de lutas de Muhammad Ali via Wikipedia para o projeto DATADOC OPOVO: [Muhammad Ali: 80 anos da lenda do boxe e ícone do orgulho racial]()\n"
   ]
  },
  {
   "cell_type": "code",
   "execution_count": 1,
   "metadata": {
    "executionInfo": {
     "elapsed": 698,
     "status": "ok",
     "timestamp": 1642094674342,
     "user": {
      "displayName": "Alexandre Ramos",
      "photoUrl": "https://lh3.googleusercontent.com/a-/AOh14Gj66Xi4yenMv6W-GYI1ZUdWPSsUqoK307WqcWChHg=s64",
      "userId": "09838267163595269298"
     },
     "user_tz": 180
    },
    "id": "RwLkX807d3BT"
   },
   "outputs": [],
   "source": [
    "from urllib.error import HTTPError\n",
    "from urllib.error import URLError\n",
    "from bs4 import BeautifulSoup\n",
    "from urllib.request import urlopen\n",
    "import pandas as pd"
   ]
  },
  {
   "cell_type": "code",
   "execution_count": 2,
   "metadata": {
    "executionInfo": {
     "elapsed": 76,
     "status": "ok",
     "timestamp": 1642094675555,
     "user": {
      "displayName": "Alexandre Ramos",
      "photoUrl": "https://lh3.googleusercontent.com/a-/AOh14Gj66Xi4yenMv6W-GYI1ZUdWPSsUqoK307WqcWChHg=s64",
      "userId": "09838267163595269298"
     },
     "user_tz": 180
    },
    "id": "Wy-0YGcpd4t_"
   },
   "outputs": [],
   "source": [
    "page_info=urlopen('https://pt.wikipedia.org/wiki/Muhammad_Ali')\n",
    "\n",
    "soup = BeautifulSoup(page_info, 'html.parser')\n",
    "\n",
    "Wiki_table = soup.find('table', \"wikitable succession-box\")"
   ]
  },
  {
   "cell_type": "code",
   "execution_count": 3,
   "metadata": {
    "colab": {
     "base_uri": "https://localhost:8080/",
     "height": 646
    },
    "executionInfo": {
     "elapsed": 79,
     "status": "ok",
     "timestamp": 1642094675561,
     "user": {
      "displayName": "Alexandre Ramos",
      "photoUrl": "https://lh3.googleusercontent.com/a-/AOh14Gj66Xi4yenMv6W-GYI1ZUdWPSsUqoK307WqcWChHg=s64",
      "userId": "09838267163595269298"
     },
     "user_tz": 180
    },
    "id": "uFSIsAJsd-a4",
    "outputId": "ef7d64e0-bf4a-42e8-d40d-0fd1bac02202"
   },
   "outputs": [
    {
     "data": {
      "text/html": [
       "<div>\n",
       "<style scoped>\n",
       "    .dataframe tbody tr th:only-of-type {\n",
       "        vertical-align: middle;\n",
       "    }\n",
       "\n",
       "    .dataframe tbody tr th {\n",
       "        vertical-align: top;\n",
       "    }\n",
       "\n",
       "    .dataframe thead th {\n",
       "        text-align: right;\n",
       "    }\n",
       "</style>\n",
       "<table border=\"1\" class=\"dataframe\">\n",
       "  <thead>\n",
       "    <tr style=\"text-align: right;\">\n",
       "      <th>1</th>\n",
       "      <th>Resultado</th>\n",
       "      <th>Oponente</th>\n",
       "      <th>Método</th>\n",
       "      <th>Round, Duração</th>\n",
       "      <th>Data</th>\n",
       "      <th>Idade</th>\n",
       "      <th>'Local</th>\n",
       "      <th>Notas</th>\n",
       "    </tr>\n",
       "  </thead>\n",
       "  <tbody>\n",
       "    <tr>\n",
       "      <th>2</th>\n",
       "      <td>Derrota</td>\n",
       "      <td>Trevor Berbick</td>\n",
       "      <td>Decisão (unânime)</td>\n",
       "      <td>10 (10)</td>\n",
       "      <td>11 de dezembro de 1981</td>\n",
       "      <td>NaN</td>\n",
       "      <td>Nassau, Bahamas</td>\n",
       "      <td>\"Drama nas Bahamas\"[18]</td>\n",
       "    </tr>\n",
       "    <tr>\n",
       "      <th>3</th>\n",
       "      <td>Derrota</td>\n",
       "      <td>Larry Holmes</td>\n",
       "      <td>TKO (Corner Stoppage)</td>\n",
       "      <td>10 (15)</td>\n",
       "      <td>2 de outubro de 1980</td>\n",
       "      <td>NaN</td>\n",
       "      <td>Las Vegas, NV</td>\n",
       "      <td>Perdeu os títulos Mundial dos Pesos-Pesados da...</td>\n",
       "    </tr>\n",
       "    <tr>\n",
       "      <th>4</th>\n",
       "      <td>Vitória</td>\n",
       "      <td>Leon Spinks</td>\n",
       "      <td>Decisão (unânime)</td>\n",
       "      <td>15 (15)</td>\n",
       "      <td>15 de setembro de 1978</td>\n",
       "      <td>NaN</td>\n",
       "      <td>Nova Orleans, LA</td>\n",
       "      <td>Ganhou os títulos Mundial dos Pesos-Pesados da...</td>\n",
       "    </tr>\n",
       "    <tr>\n",
       "      <th>5</th>\n",
       "      <td>Derrota</td>\n",
       "      <td>Leon Spinks</td>\n",
       "      <td>Decisão (ferimento)</td>\n",
       "      <td>15 (15)</td>\n",
       "      <td>15 de fevereiro de 1978</td>\n",
       "      <td>NaN</td>\n",
       "      <td>Las Vegas, NV</td>\n",
       "      <td>Perdeu os títulos Mundial dos Pesos-Pesados da...</td>\n",
       "    </tr>\n",
       "    <tr>\n",
       "      <th>6</th>\n",
       "      <td>Vitória</td>\n",
       "      <td>Earnie Shavers</td>\n",
       "      <td>Decisão (unânime)</td>\n",
       "      <td>15 (15)</td>\n",
       "      <td>29 de setembro de 1977</td>\n",
       "      <td>NaN</td>\n",
       "      <td>Nova Iorque, NY</td>\n",
       "      <td>Mantém os títulos Mundial dos Pesos-Pesados da...</td>\n",
       "    </tr>\n",
       "    <tr>\n",
       "      <th>...</th>\n",
       "      <td>...</td>\n",
       "      <td>...</td>\n",
       "      <td>...</td>\n",
       "      <td>...</td>\n",
       "      <td>...</td>\n",
       "      <td>...</td>\n",
       "      <td>...</td>\n",
       "      <td>...</td>\n",
       "    </tr>\n",
       "    <tr>\n",
       "      <th>58</th>\n",
       "      <td>Vitória</td>\n",
       "      <td>Donnie Fleeman</td>\n",
       "      <td>TKO</td>\n",
       "      <td>7 (8)</td>\n",
       "      <td>21 de fevereiro de 1961</td>\n",
       "      <td>NaN</td>\n",
       "      <td>Miami Beach, FL</td>\n",
       "      <td>NaN</td>\n",
       "    </tr>\n",
       "    <tr>\n",
       "      <th>59</th>\n",
       "      <td>Vitória</td>\n",
       "      <td>Jim Robinson</td>\n",
       "      <td>KO</td>\n",
       "      <td>1 (8), 1:34</td>\n",
       "      <td>7 de fevereiro de 1961</td>\n",
       "      <td>NaN</td>\n",
       "      <td>Miami Beach, FL</td>\n",
       "      <td>NaN</td>\n",
       "    </tr>\n",
       "    <tr>\n",
       "      <th>60</th>\n",
       "      <td>Vitória</td>\n",
       "      <td>Tony Esperti</td>\n",
       "      <td>TKO</td>\n",
       "      <td>3 (8), 1:30</td>\n",
       "      <td>17 de janeiro de 1961</td>\n",
       "      <td>NaN</td>\n",
       "      <td>Miami, FL</td>\n",
       "      <td>NaN</td>\n",
       "    </tr>\n",
       "    <tr>\n",
       "      <th>61</th>\n",
       "      <td>Vitória</td>\n",
       "      <td>Herb Siler</td>\n",
       "      <td>KO</td>\n",
       "      <td>4 (8)</td>\n",
       "      <td>27 de dezembro de 1960</td>\n",
       "      <td>NaN</td>\n",
       "      <td>Miami, FL</td>\n",
       "      <td>NaN</td>\n",
       "    </tr>\n",
       "    <tr>\n",
       "      <th>62</th>\n",
       "      <td>Vitória</td>\n",
       "      <td>Tunney Hunsaker</td>\n",
       "      <td>Decisão (unânime)</td>\n",
       "      <td>6 (6)</td>\n",
       "      <td>29 de outubro de 1960</td>\n",
       "      <td>NaN</td>\n",
       "      <td>Louisville, KY</td>\n",
       "      <td>NaN</td>\n",
       "    </tr>\n",
       "  </tbody>\n",
       "</table>\n",
       "<p>61 rows × 8 columns</p>\n",
       "</div>"
      ],
      "text/plain": [
       "1  Resultado         Oponente                 Método Round, Duração  \\\n",
       "2    Derrota   Trevor Berbick      Decisão (unânime)        10 (10)   \n",
       "3    Derrota     Larry Holmes  TKO (Corner Stoppage)        10 (15)   \n",
       "4    Vitória      Leon Spinks      Decisão (unânime)        15 (15)   \n",
       "5    Derrota      Leon Spinks    Decisão (ferimento)        15 (15)   \n",
       "6    Vitória   Earnie Shavers      Decisão (unânime)        15 (15)   \n",
       "..       ...              ...                    ...            ...   \n",
       "58   Vitória   Donnie Fleeman                    TKO          7 (8)   \n",
       "59   Vitória     Jim Robinson                     KO    1 (8), 1:34   \n",
       "60   Vitória     Tony Esperti                    TKO    3 (8), 1:30   \n",
       "61   Vitória       Herb Siler                     KO          4 (8)   \n",
       "62   Vitória  Tunney Hunsaker      Decisão (unânime)          6 (6)   \n",
       "\n",
       "1                      Data Idade            'Local  \\\n",
       "2    11 de dezembro de 1981   NaN   Nassau, Bahamas   \n",
       "3      2 de outubro de 1980   NaN     Las Vegas, NV   \n",
       "4    15 de setembro de 1978   NaN  Nova Orleans, LA   \n",
       "5   15 de fevereiro de 1978   NaN     Las Vegas, NV   \n",
       "6    29 de setembro de 1977   NaN   Nova Iorque, NY   \n",
       "..                      ...   ...               ...   \n",
       "58  21 de fevereiro de 1961   NaN   Miami Beach, FL   \n",
       "59   7 de fevereiro de 1961   NaN   Miami Beach, FL   \n",
       "60    17 de janeiro de 1961   NaN         Miami, FL   \n",
       "61   27 de dezembro de 1960   NaN         Miami, FL   \n",
       "62    29 de outubro de 1960   NaN    Louisville, KY   \n",
       "\n",
       "1                                               Notas  \n",
       "2                             \"Drama nas Bahamas\"[18]  \n",
       "3   Perdeu os títulos Mundial dos Pesos-Pesados da...  \n",
       "4   Ganhou os títulos Mundial dos Pesos-Pesados da...  \n",
       "5   Perdeu os títulos Mundial dos Pesos-Pesados da...  \n",
       "6   Mantém os títulos Mundial dos Pesos-Pesados da...  \n",
       "..                                                ...  \n",
       "58                                                NaN  \n",
       "59                                                NaN  \n",
       "60                                                NaN  \n",
       "61                                                NaN  \n",
       "62                                                NaN  \n",
       "\n",
       "[61 rows x 8 columns]"
      ]
     },
     "execution_count": 3,
     "metadata": {},
     "output_type": "execute_result"
    }
   ],
   "source": [
    "df = pd.concat(pd.read_html(str(Wiki_table))).iloc[1:,:]\n",
    "new_header = df.iloc[0]\n",
    "df = df[1:]\n",
    "df.columns = new_header\n",
    "df"
   ]
  },
  {
   "cell_type": "code",
   "execution_count": 4,
   "metadata": {
    "executionInfo": {
     "elapsed": 78,
     "status": "ok",
     "timestamp": 1642094675568,
     "user": {
      "displayName": "Alexandre Ramos",
      "photoUrl": "https://lh3.googleusercontent.com/a-/AOh14Gj66Xi4yenMv6W-GYI1ZUdWPSsUqoK307WqcWChHg=s64",
      "userId": "09838267163595269298"
     },
     "user_tz": 180
    },
    "id": "ySV1ZxxseYD-"
   },
   "outputs": [],
   "source": [
    "# Wiki_table"
   ]
  },
  {
   "cell_type": "code",
   "execution_count": 4,
   "metadata": {
    "colab": {
     "base_uri": "https://localhost:8080/",
     "height": 679
    },
    "executionInfo": {
     "elapsed": 1699,
     "status": "ok",
     "timestamp": 1642094677190,
     "user": {
      "displayName": "Alexandre Ramos",
      "photoUrl": "https://lh3.googleusercontent.com/a-/AOh14Gj66Xi4yenMv6W-GYI1ZUdWPSsUqoK307WqcWChHg=s64",
      "userId": "09838267163595269298"
     },
     "user_tz": 180
    },
    "id": "EFoWOyCgeYgI",
    "outputId": "f7d7ef9c-642c-4d15-e113-c8c24817e73b"
   },
   "outputs": [
    {
     "data": {
      "text/html": [
       "<div>\n",
       "<style scoped>\n",
       "    .dataframe tbody tr th:only-of-type {\n",
       "        vertical-align: middle;\n",
       "    }\n",
       "\n",
       "    .dataframe tbody tr th {\n",
       "        vertical-align: top;\n",
       "    }\n",
       "\n",
       "    .dataframe thead th {\n",
       "        text-align: right;\n",
       "    }\n",
       "</style>\n",
       "<table border=\"1\" class=\"dataframe\">\n",
       "  <thead>\n",
       "    <tr style=\"text-align: right;\">\n",
       "      <th>1</th>\n",
       "      <th>Resultado</th>\n",
       "      <th>Oponente</th>\n",
       "      <th>Método</th>\n",
       "      <th>Round, Duração</th>\n",
       "      <th>Data</th>\n",
       "      <th>Idade</th>\n",
       "      <th>'Local</th>\n",
       "      <th>Notas</th>\n",
       "      <th>Dia</th>\n",
       "      <th>Mes</th>\n",
       "      <th>Ano</th>\n",
       "      <th>dtg</th>\n",
       "    </tr>\n",
       "  </thead>\n",
       "  <tbody>\n",
       "    <tr>\n",
       "      <th>62</th>\n",
       "      <td>Vitória</td>\n",
       "      <td>Tunney Hunsaker</td>\n",
       "      <td>Decisão (unânime)</td>\n",
       "      <td>6 (6)</td>\n",
       "      <td>29 de outubro de 1960</td>\n",
       "      <td>NaN</td>\n",
       "      <td>Louisville, KY</td>\n",
       "      <td>NaN</td>\n",
       "      <td>29</td>\n",
       "      <td>10</td>\n",
       "      <td>1960</td>\n",
       "      <td>1960-10-29</td>\n",
       "    </tr>\n",
       "    <tr>\n",
       "      <th>61</th>\n",
       "      <td>Vitória</td>\n",
       "      <td>Herb Siler</td>\n",
       "      <td>KO</td>\n",
       "      <td>4 (8)</td>\n",
       "      <td>27 de dezembro de 1960</td>\n",
       "      <td>NaN</td>\n",
       "      <td>Miami, FL</td>\n",
       "      <td>NaN</td>\n",
       "      <td>27</td>\n",
       "      <td>12</td>\n",
       "      <td>1960</td>\n",
       "      <td>1960-12-27</td>\n",
       "    </tr>\n",
       "    <tr>\n",
       "      <th>60</th>\n",
       "      <td>Vitória</td>\n",
       "      <td>Tony Esperti</td>\n",
       "      <td>TKO</td>\n",
       "      <td>3 (8), 1:30</td>\n",
       "      <td>17 de janeiro de 1961</td>\n",
       "      <td>NaN</td>\n",
       "      <td>Miami, FL</td>\n",
       "      <td>NaN</td>\n",
       "      <td>17</td>\n",
       "      <td>1</td>\n",
       "      <td>1961</td>\n",
       "      <td>1961-01-17</td>\n",
       "    </tr>\n",
       "    <tr>\n",
       "      <th>59</th>\n",
       "      <td>Vitória</td>\n",
       "      <td>Jim Robinson</td>\n",
       "      <td>KO</td>\n",
       "      <td>1 (8), 1:34</td>\n",
       "      <td>7 de fevereiro de 1961</td>\n",
       "      <td>NaN</td>\n",
       "      <td>Miami Beach, FL</td>\n",
       "      <td>NaN</td>\n",
       "      <td>7</td>\n",
       "      <td>2</td>\n",
       "      <td>1961</td>\n",
       "      <td>1961-02-07</td>\n",
       "    </tr>\n",
       "    <tr>\n",
       "      <th>58</th>\n",
       "      <td>Vitória</td>\n",
       "      <td>Donnie Fleeman</td>\n",
       "      <td>TKO</td>\n",
       "      <td>7 (8)</td>\n",
       "      <td>21 de fevereiro de 1961</td>\n",
       "      <td>NaN</td>\n",
       "      <td>Miami Beach, FL</td>\n",
       "      <td>NaN</td>\n",
       "      <td>21</td>\n",
       "      <td>2</td>\n",
       "      <td>1961</td>\n",
       "      <td>1961-02-21</td>\n",
       "    </tr>\n",
       "    <tr>\n",
       "      <th>...</th>\n",
       "      <td>...</td>\n",
       "      <td>...</td>\n",
       "      <td>...</td>\n",
       "      <td>...</td>\n",
       "      <td>...</td>\n",
       "      <td>...</td>\n",
       "      <td>...</td>\n",
       "      <td>...</td>\n",
       "      <td>...</td>\n",
       "      <td>...</td>\n",
       "      <td>...</td>\n",
       "      <td>...</td>\n",
       "    </tr>\n",
       "    <tr>\n",
       "      <th>6</th>\n",
       "      <td>Vitória</td>\n",
       "      <td>Earnie Shavers</td>\n",
       "      <td>Decisão (unânime)</td>\n",
       "      <td>15 (15)</td>\n",
       "      <td>29 de setembro de 1977</td>\n",
       "      <td>NaN</td>\n",
       "      <td>Nova Iorque, NY</td>\n",
       "      <td>Mantém os títulos Mundial dos Pesos-Pesados da...</td>\n",
       "      <td>29</td>\n",
       "      <td>9</td>\n",
       "      <td>1977</td>\n",
       "      <td>1977-09-29</td>\n",
       "    </tr>\n",
       "    <tr>\n",
       "      <th>5</th>\n",
       "      <td>Derrota</td>\n",
       "      <td>Leon Spinks</td>\n",
       "      <td>Decisão (ferimento)</td>\n",
       "      <td>15 (15)</td>\n",
       "      <td>15 de fevereiro de 1978</td>\n",
       "      <td>NaN</td>\n",
       "      <td>Las Vegas, NV</td>\n",
       "      <td>Perdeu os títulos Mundial dos Pesos-Pesados da...</td>\n",
       "      <td>15</td>\n",
       "      <td>2</td>\n",
       "      <td>1978</td>\n",
       "      <td>1978-02-15</td>\n",
       "    </tr>\n",
       "    <tr>\n",
       "      <th>4</th>\n",
       "      <td>Vitória</td>\n",
       "      <td>Leon Spinks</td>\n",
       "      <td>Decisão (unânime)</td>\n",
       "      <td>15 (15)</td>\n",
       "      <td>15 de setembro de 1978</td>\n",
       "      <td>NaN</td>\n",
       "      <td>Nova Orleans, LA</td>\n",
       "      <td>Ganhou os títulos Mundial dos Pesos-Pesados da...</td>\n",
       "      <td>15</td>\n",
       "      <td>9</td>\n",
       "      <td>1978</td>\n",
       "      <td>1978-09-15</td>\n",
       "    </tr>\n",
       "    <tr>\n",
       "      <th>3</th>\n",
       "      <td>Derrota</td>\n",
       "      <td>Larry Holmes</td>\n",
       "      <td>TKO (Corner Stoppage)</td>\n",
       "      <td>10 (15)</td>\n",
       "      <td>2 de outubro de 1980</td>\n",
       "      <td>NaN</td>\n",
       "      <td>Las Vegas, NV</td>\n",
       "      <td>Perdeu os títulos Mundial dos Pesos-Pesados da...</td>\n",
       "      <td>2</td>\n",
       "      <td>10</td>\n",
       "      <td>1980</td>\n",
       "      <td>1980-10-02</td>\n",
       "    </tr>\n",
       "    <tr>\n",
       "      <th>2</th>\n",
       "      <td>Derrota</td>\n",
       "      <td>Trevor Berbick</td>\n",
       "      <td>Decisão (unânime)</td>\n",
       "      <td>10 (10)</td>\n",
       "      <td>11 de dezembro de 1981</td>\n",
       "      <td>NaN</td>\n",
       "      <td>Nassau, Bahamas</td>\n",
       "      <td>\"Drama nas Bahamas\"[18]</td>\n",
       "      <td>11</td>\n",
       "      <td>12</td>\n",
       "      <td>1981</td>\n",
       "      <td>1981-12-11</td>\n",
       "    </tr>\n",
       "  </tbody>\n",
       "</table>\n",
       "<p>61 rows × 12 columns</p>\n",
       "</div>"
      ],
      "text/plain": [
       "1  Resultado         Oponente                 Método Round, Duração  \\\n",
       "62   Vitória  Tunney Hunsaker      Decisão (unânime)          6 (6)   \n",
       "61   Vitória       Herb Siler                     KO          4 (8)   \n",
       "60   Vitória     Tony Esperti                    TKO    3 (8), 1:30   \n",
       "59   Vitória     Jim Robinson                     KO    1 (8), 1:34   \n",
       "58   Vitória   Donnie Fleeman                    TKO          7 (8)   \n",
       "..       ...              ...                    ...            ...   \n",
       "6    Vitória   Earnie Shavers      Decisão (unânime)        15 (15)   \n",
       "5    Derrota      Leon Spinks    Decisão (ferimento)        15 (15)   \n",
       "4    Vitória      Leon Spinks      Decisão (unânime)        15 (15)   \n",
       "3    Derrota     Larry Holmes  TKO (Corner Stoppage)        10 (15)   \n",
       "2    Derrota   Trevor Berbick      Decisão (unânime)        10 (10)   \n",
       "\n",
       "1                      Data Idade            'Local  \\\n",
       "62    29 de outubro de 1960   NaN    Louisville, KY   \n",
       "61   27 de dezembro de 1960   NaN         Miami, FL   \n",
       "60    17 de janeiro de 1961   NaN         Miami, FL   \n",
       "59   7 de fevereiro de 1961   NaN   Miami Beach, FL   \n",
       "58  21 de fevereiro de 1961   NaN   Miami Beach, FL   \n",
       "..                      ...   ...               ...   \n",
       "6    29 de setembro de 1977   NaN   Nova Iorque, NY   \n",
       "5   15 de fevereiro de 1978   NaN     Las Vegas, NV   \n",
       "4    15 de setembro de 1978   NaN  Nova Orleans, LA   \n",
       "3      2 de outubro de 1980   NaN     Las Vegas, NV   \n",
       "2    11 de dezembro de 1981   NaN   Nassau, Bahamas   \n",
       "\n",
       "1                                               Notas  Dia  Mes   Ano  \\\n",
       "62                                                NaN   29   10  1960   \n",
       "61                                                NaN   27   12  1960   \n",
       "60                                                NaN   17    1  1961   \n",
       "59                                                NaN    7    2  1961   \n",
       "58                                                NaN   21    2  1961   \n",
       "..                                                ...  ...  ...   ...   \n",
       "6   Mantém os títulos Mundial dos Pesos-Pesados da...   29    9  1977   \n",
       "5   Perdeu os títulos Mundial dos Pesos-Pesados da...   15    2  1978   \n",
       "4   Ganhou os títulos Mundial dos Pesos-Pesados da...   15    9  1978   \n",
       "3   Perdeu os títulos Mundial dos Pesos-Pesados da...    2   10  1980   \n",
       "2                             \"Drama nas Bahamas\"[18]   11   12  1981   \n",
       "\n",
       "1         dtg  \n",
       "62 1960-10-29  \n",
       "61 1960-12-27  \n",
       "60 1961-01-17  \n",
       "59 1961-02-07  \n",
       "58 1961-02-21  \n",
       "..        ...  \n",
       "6  1977-09-29  \n",
       "5  1978-02-15  \n",
       "4  1978-09-15  \n",
       "3  1980-10-02  \n",
       "2  1981-12-11  \n",
       "\n",
       "[61 rows x 12 columns]"
      ]
     },
     "execution_count": 4,
     "metadata": {},
     "output_type": "execute_result"
    }
   ],
   "source": [
    "mes_num = {'janeiro':1,'fevereiro':2,'março':3,'abril':4,'maio':5,'junho':6,'julho':7, 'agosto':8,'setembro':9,'outubro':10,'novembro':11, 'dezembro':12}\n",
    "\n",
    "df['Dia'] = df['Data'].apply(lambda x: x.split()[0]).astype('int')\n",
    "df['Mes'] = df['Data'].apply(lambda x: x.split()[2]).replace(mes_num)\n",
    "df['Ano'] = df['Data'].apply(lambda x: x.split()[4]).astype('int')\n",
    "df['dtg'] = df['Ano'].astype(str) + '-' + df['Mes'].astype(str) + '-' + df['Dia'].astype(str)\n",
    "df['dtg'] = pd.to_datetime(df['dtg'])\n",
    "# df.filter(['Data','dtg'])\n",
    "\n",
    "df.sort_values(by='dtg')"
   ]
  },
  {
   "cell_type": "code",
   "execution_count": 5,
   "metadata": {
    "executionInfo": {
     "elapsed": 233,
     "status": "ok",
     "timestamp": 1642094677200,
     "user": {
      "displayName": "Alexandre Ramos",
      "photoUrl": "https://lh3.googleusercontent.com/a-/AOh14Gj66Xi4yenMv6W-GYI1ZUdWPSsUqoK307WqcWChHg=s64",
      "userId": "09838267163595269298"
     },
     "user_tz": 180
    },
    "id": "lJ0i63bbSE_X"
   },
   "outputs": [],
   "source": [
    "df.rename(columns={\"'Local\":'Local'}, inplace=True)"
   ]
  },
  {
   "cell_type": "markdown",
   "metadata": {
    "id": "YrB0vQrlAKEc"
   },
   "source": [
    "## Google API"
   ]
  },
  {
   "cell_type": "code",
   "execution_count": 9,
   "metadata": {
    "colab": {
     "base_uri": "https://localhost:8080/"
    },
    "executionInfo": {
     "elapsed": 3327,
     "status": "ok",
     "timestamp": 1642094680421,
     "user": {
      "displayName": "Alexandre Ramos",
      "photoUrl": "https://lh3.googleusercontent.com/a-/AOh14Gj66Xi4yenMv6W-GYI1ZUdWPSsUqoK307WqcWChHg=s64",
      "userId": "09838267163595269298"
     },
     "user_tz": 180
    },
    "id": "1LKsP1DWAMti",
    "outputId": "a254de2a-d809-4a8c-81b3-4a0eab7831af"
   },
   "outputs": [
    {
     "name": "stdout",
     "output_type": "stream",
     "text": [
      "Collecting googlemaps\n",
      "  Downloading googlemaps-4.5.3.tar.gz (32 kB)\n",
      "Requirement already satisfied: requests<3.0,>=2.20.0 in /usr/local/lib/python3.7/dist-packages (from googlemaps) (2.23.0)\n",
      "Requirement already satisfied: chardet<4,>=3.0.2 in /usr/local/lib/python3.7/dist-packages (from requests<3.0,>=2.20.0->googlemaps) (3.0.4)\n",
      "Requirement already satisfied: urllib3!=1.25.0,!=1.25.1,<1.26,>=1.21.1 in /usr/local/lib/python3.7/dist-packages (from requests<3.0,>=2.20.0->googlemaps) (1.24.3)\n",
      "Requirement already satisfied: idna<3,>=2.5 in /usr/local/lib/python3.7/dist-packages (from requests<3.0,>=2.20.0->googlemaps) (2.10)\n",
      "Requirement already satisfied: certifi>=2017.4.17 in /usr/local/lib/python3.7/dist-packages (from requests<3.0,>=2.20.0->googlemaps) (2021.10.8)\n",
      "Building wheels for collected packages: googlemaps\n",
      "  Building wheel for googlemaps (setup.py) ... \u001b[?25l\u001b[?25hdone\n",
      "  Created wheel for googlemaps: filename=googlemaps-4.5.3-py3-none-any.whl size=38481 sha256=188273f126a34352db29b55204947526cefef3e5077e2cc829a7b876018c18cb\n",
      "  Stored in directory: /root/.cache/pip/wheels/fa/1a/1c/cc0b8a1652a3f06aea586b0e4714a81bafed830513969baf92\n",
      "Successfully built googlemaps\n",
      "Installing collected packages: googlemaps\n",
      "Successfully installed googlemaps-4.5.3\n"
     ]
    }
   ],
   "source": [
    "!pip install googlemaps"
   ]
  },
  {
   "cell_type": "code",
   "execution_count": 6,
   "metadata": {
    "executionInfo": {
     "elapsed": 53,
     "status": "ok",
     "timestamp": 1642094680427,
     "user": {
      "displayName": "Alexandre Ramos",
      "photoUrl": "https://lh3.googleusercontent.com/a-/AOh14Gj66Xi4yenMv6W-GYI1ZUdWPSsUqoK307WqcWChHg=s64",
      "userId": "09838267163595269298"
     },
     "user_tz": 180
    },
    "id": "LkXbkTPhA9gh"
   },
   "outputs": [],
   "source": [
    "import googlemaps"
   ]
  },
  {
   "cell_type": "code",
   "execution_count": 7,
   "metadata": {
    "executionInfo": {
     "elapsed": 55,
     "status": "ok",
     "timestamp": 1642094680431,
     "user": {
      "displayName": "Alexandre Ramos",
      "photoUrl": "https://lh3.googleusercontent.com/a-/AOh14Gj66Xi4yenMv6W-GYI1ZUdWPSsUqoK307WqcWChHg=s64",
      "userId": "09838267163595269298"
     },
     "user_tz": 180
    },
    "id": "S9_tMcIFBCq9"
   },
   "outputs": [],
   "source": [
    "# gmaps = googlemaps.Client(key='chave-google-ali-aqui')"
   ]
  },
  {
   "cell_type": "code",
   "execution_count": 8,
   "metadata": {
    "executionInfo": {
     "elapsed": 18413,
     "status": "ok",
     "timestamp": 1642094698792,
     "user": {
      "displayName": "Alexandre Ramos",
      "photoUrl": "https://lh3.googleusercontent.com/a-/AOh14Gj66Xi4yenMv6W-GYI1ZUdWPSsUqoK307WqcWChHg=s64",
      "userId": "09838267163595269298"
     },
     "user_tz": 180
    },
    "id": "ubLCuFAWBFxn"
   },
   "outputs": [],
   "source": [
    "df['geocode_result'] = df.apply(lambda x: gmaps.geocode(x['Local']), axis=1)"
   ]
  },
  {
   "cell_type": "code",
   "execution_count": 9,
   "metadata": {
    "colab": {
     "base_uri": "https://localhost:8080/",
     "height": 948
    },
    "executionInfo": {
     "elapsed": 47,
     "status": "ok",
     "timestamp": 1642094714241,
     "user": {
      "displayName": "Alexandre Ramos",
      "photoUrl": "https://lh3.googleusercontent.com/a-/AOh14Gj66Xi4yenMv6W-GYI1ZUdWPSsUqoK307WqcWChHg=s64",
      "userId": "09838267163595269298"
     },
     "user_tz": 180
    },
    "id": "JFMd-DcrBTpZ",
    "outputId": "e724c03c-27ab-4fe7-dd04-bab838cc3bce"
   },
   "outputs": [
    {
     "data": {
      "text/html": [
       "<div>\n",
       "<style scoped>\n",
       "    .dataframe tbody tr th:only-of-type {\n",
       "        vertical-align: middle;\n",
       "    }\n",
       "\n",
       "    .dataframe tbody tr th {\n",
       "        vertical-align: top;\n",
       "    }\n",
       "\n",
       "    .dataframe thead th {\n",
       "        text-align: right;\n",
       "    }\n",
       "</style>\n",
       "<table border=\"1\" class=\"dataframe\">\n",
       "  <thead>\n",
       "    <tr style=\"text-align: right;\">\n",
       "      <th>1</th>\n",
       "      <th>Resultado</th>\n",
       "      <th>Oponente</th>\n",
       "      <th>Método</th>\n",
       "      <th>Round, Duração</th>\n",
       "      <th>Data</th>\n",
       "      <th>Idade</th>\n",
       "      <th>Local</th>\n",
       "      <th>Notas</th>\n",
       "      <th>Dia</th>\n",
       "      <th>Mes</th>\n",
       "      <th>Ano</th>\n",
       "      <th>dtg</th>\n",
       "      <th>geocode_result</th>\n",
       "    </tr>\n",
       "  </thead>\n",
       "  <tbody>\n",
       "    <tr>\n",
       "      <th>2</th>\n",
       "      <td>Derrota</td>\n",
       "      <td>Trevor Berbick</td>\n",
       "      <td>Decisão (unânime)</td>\n",
       "      <td>10 (10)</td>\n",
       "      <td>11 de dezembro de 1981</td>\n",
       "      <td>NaN</td>\n",
       "      <td>Nassau, Bahamas</td>\n",
       "      <td>\"Drama nas Bahamas\"[18]</td>\n",
       "      <td>11</td>\n",
       "      <td>12</td>\n",
       "      <td>1981</td>\n",
       "      <td>1981-12-11</td>\n",
       "      <td>[{'address_components': [{'long_name': 'Nassau...</td>\n",
       "    </tr>\n",
       "    <tr>\n",
       "      <th>3</th>\n",
       "      <td>Derrota</td>\n",
       "      <td>Larry Holmes</td>\n",
       "      <td>TKO (Corner Stoppage)</td>\n",
       "      <td>10 (15)</td>\n",
       "      <td>2 de outubro de 1980</td>\n",
       "      <td>NaN</td>\n",
       "      <td>Las Vegas, NV</td>\n",
       "      <td>Perdeu os títulos Mundial dos Pesos-Pesados da...</td>\n",
       "      <td>2</td>\n",
       "      <td>10</td>\n",
       "      <td>1980</td>\n",
       "      <td>1980-10-02</td>\n",
       "      <td>[{'address_components': [{'long_name': 'Las Ve...</td>\n",
       "    </tr>\n",
       "    <tr>\n",
       "      <th>4</th>\n",
       "      <td>Vitória</td>\n",
       "      <td>Leon Spinks</td>\n",
       "      <td>Decisão (unânime)</td>\n",
       "      <td>15 (15)</td>\n",
       "      <td>15 de setembro de 1978</td>\n",
       "      <td>NaN</td>\n",
       "      <td>Nova Orleans, LA</td>\n",
       "      <td>Ganhou os títulos Mundial dos Pesos-Pesados da...</td>\n",
       "      <td>15</td>\n",
       "      <td>9</td>\n",
       "      <td>1978</td>\n",
       "      <td>1978-09-15</td>\n",
       "      <td>[{'address_components': [{'long_name': 'New Or...</td>\n",
       "    </tr>\n",
       "    <tr>\n",
       "      <th>5</th>\n",
       "      <td>Derrota</td>\n",
       "      <td>Leon Spinks</td>\n",
       "      <td>Decisão (ferimento)</td>\n",
       "      <td>15 (15)</td>\n",
       "      <td>15 de fevereiro de 1978</td>\n",
       "      <td>NaN</td>\n",
       "      <td>Las Vegas, NV</td>\n",
       "      <td>Perdeu os títulos Mundial dos Pesos-Pesados da...</td>\n",
       "      <td>15</td>\n",
       "      <td>2</td>\n",
       "      <td>1978</td>\n",
       "      <td>1978-02-15</td>\n",
       "      <td>[{'address_components': [{'long_name': 'Las Ve...</td>\n",
       "    </tr>\n",
       "    <tr>\n",
       "      <th>6</th>\n",
       "      <td>Vitória</td>\n",
       "      <td>Earnie Shavers</td>\n",
       "      <td>Decisão (unânime)</td>\n",
       "      <td>15 (15)</td>\n",
       "      <td>29 de setembro de 1977</td>\n",
       "      <td>NaN</td>\n",
       "      <td>Nova Iorque, NY</td>\n",
       "      <td>Mantém os títulos Mundial dos Pesos-Pesados da...</td>\n",
       "      <td>29</td>\n",
       "      <td>9</td>\n",
       "      <td>1977</td>\n",
       "      <td>1977-09-29</td>\n",
       "      <td>[{'address_components': [{'long_name': 'New Yo...</td>\n",
       "    </tr>\n",
       "    <tr>\n",
       "      <th>...</th>\n",
       "      <td>...</td>\n",
       "      <td>...</td>\n",
       "      <td>...</td>\n",
       "      <td>...</td>\n",
       "      <td>...</td>\n",
       "      <td>...</td>\n",
       "      <td>...</td>\n",
       "      <td>...</td>\n",
       "      <td>...</td>\n",
       "      <td>...</td>\n",
       "      <td>...</td>\n",
       "      <td>...</td>\n",
       "      <td>...</td>\n",
       "    </tr>\n",
       "    <tr>\n",
       "      <th>58</th>\n",
       "      <td>Vitória</td>\n",
       "      <td>Donnie Fleeman</td>\n",
       "      <td>TKO</td>\n",
       "      <td>7 (8)</td>\n",
       "      <td>21 de fevereiro de 1961</td>\n",
       "      <td>NaN</td>\n",
       "      <td>Miami Beach, FL</td>\n",
       "      <td>NaN</td>\n",
       "      <td>21</td>\n",
       "      <td>2</td>\n",
       "      <td>1961</td>\n",
       "      <td>1961-02-21</td>\n",
       "      <td>[{'address_components': [{'long_name': 'Miami ...</td>\n",
       "    </tr>\n",
       "    <tr>\n",
       "      <th>59</th>\n",
       "      <td>Vitória</td>\n",
       "      <td>Jim Robinson</td>\n",
       "      <td>KO</td>\n",
       "      <td>1 (8), 1:34</td>\n",
       "      <td>7 de fevereiro de 1961</td>\n",
       "      <td>NaN</td>\n",
       "      <td>Miami Beach, FL</td>\n",
       "      <td>NaN</td>\n",
       "      <td>7</td>\n",
       "      <td>2</td>\n",
       "      <td>1961</td>\n",
       "      <td>1961-02-07</td>\n",
       "      <td>[{'address_components': [{'long_name': 'Miami ...</td>\n",
       "    </tr>\n",
       "    <tr>\n",
       "      <th>60</th>\n",
       "      <td>Vitória</td>\n",
       "      <td>Tony Esperti</td>\n",
       "      <td>TKO</td>\n",
       "      <td>3 (8), 1:30</td>\n",
       "      <td>17 de janeiro de 1961</td>\n",
       "      <td>NaN</td>\n",
       "      <td>Miami, FL</td>\n",
       "      <td>NaN</td>\n",
       "      <td>17</td>\n",
       "      <td>1</td>\n",
       "      <td>1961</td>\n",
       "      <td>1961-01-17</td>\n",
       "      <td>[{'address_components': [{'long_name': 'Miami'...</td>\n",
       "    </tr>\n",
       "    <tr>\n",
       "      <th>61</th>\n",
       "      <td>Vitória</td>\n",
       "      <td>Herb Siler</td>\n",
       "      <td>KO</td>\n",
       "      <td>4 (8)</td>\n",
       "      <td>27 de dezembro de 1960</td>\n",
       "      <td>NaN</td>\n",
       "      <td>Miami, FL</td>\n",
       "      <td>NaN</td>\n",
       "      <td>27</td>\n",
       "      <td>12</td>\n",
       "      <td>1960</td>\n",
       "      <td>1960-12-27</td>\n",
       "      <td>[{'address_components': [{'long_name': 'Miami'...</td>\n",
       "    </tr>\n",
       "    <tr>\n",
       "      <th>62</th>\n",
       "      <td>Vitória</td>\n",
       "      <td>Tunney Hunsaker</td>\n",
       "      <td>Decisão (unânime)</td>\n",
       "      <td>6 (6)</td>\n",
       "      <td>29 de outubro de 1960</td>\n",
       "      <td>NaN</td>\n",
       "      <td>Louisville, KY</td>\n",
       "      <td>NaN</td>\n",
       "      <td>29</td>\n",
       "      <td>10</td>\n",
       "      <td>1960</td>\n",
       "      <td>1960-10-29</td>\n",
       "      <td>[{'address_components': [{'long_name': 'Louisv...</td>\n",
       "    </tr>\n",
       "  </tbody>\n",
       "</table>\n",
       "<p>61 rows × 13 columns</p>\n",
       "</div>"
      ],
      "text/plain": [
       "1  Resultado         Oponente                 Método Round, Duração  \\\n",
       "2    Derrota   Trevor Berbick      Decisão (unânime)        10 (10)   \n",
       "3    Derrota     Larry Holmes  TKO (Corner Stoppage)        10 (15)   \n",
       "4    Vitória      Leon Spinks      Decisão (unânime)        15 (15)   \n",
       "5    Derrota      Leon Spinks    Decisão (ferimento)        15 (15)   \n",
       "6    Vitória   Earnie Shavers      Decisão (unânime)        15 (15)   \n",
       "..       ...              ...                    ...            ...   \n",
       "58   Vitória   Donnie Fleeman                    TKO          7 (8)   \n",
       "59   Vitória     Jim Robinson                     KO    1 (8), 1:34   \n",
       "60   Vitória     Tony Esperti                    TKO    3 (8), 1:30   \n",
       "61   Vitória       Herb Siler                     KO          4 (8)   \n",
       "62   Vitória  Tunney Hunsaker      Decisão (unânime)          6 (6)   \n",
       "\n",
       "1                      Data Idade             Local  \\\n",
       "2    11 de dezembro de 1981   NaN   Nassau, Bahamas   \n",
       "3      2 de outubro de 1980   NaN     Las Vegas, NV   \n",
       "4    15 de setembro de 1978   NaN  Nova Orleans, LA   \n",
       "5   15 de fevereiro de 1978   NaN     Las Vegas, NV   \n",
       "6    29 de setembro de 1977   NaN   Nova Iorque, NY   \n",
       "..                      ...   ...               ...   \n",
       "58  21 de fevereiro de 1961   NaN   Miami Beach, FL   \n",
       "59   7 de fevereiro de 1961   NaN   Miami Beach, FL   \n",
       "60    17 de janeiro de 1961   NaN         Miami, FL   \n",
       "61   27 de dezembro de 1960   NaN         Miami, FL   \n",
       "62    29 de outubro de 1960   NaN    Louisville, KY   \n",
       "\n",
       "1                                               Notas  Dia  Mes   Ano  \\\n",
       "2                             \"Drama nas Bahamas\"[18]   11   12  1981   \n",
       "3   Perdeu os títulos Mundial dos Pesos-Pesados da...    2   10  1980   \n",
       "4   Ganhou os títulos Mundial dos Pesos-Pesados da...   15    9  1978   \n",
       "5   Perdeu os títulos Mundial dos Pesos-Pesados da...   15    2  1978   \n",
       "6   Mantém os títulos Mundial dos Pesos-Pesados da...   29    9  1977   \n",
       "..                                                ...  ...  ...   ...   \n",
       "58                                                NaN   21    2  1961   \n",
       "59                                                NaN    7    2  1961   \n",
       "60                                                NaN   17    1  1961   \n",
       "61                                                NaN   27   12  1960   \n",
       "62                                                NaN   29   10  1960   \n",
       "\n",
       "1         dtg                                     geocode_result  \n",
       "2  1981-12-11  [{'address_components': [{'long_name': 'Nassau...  \n",
       "3  1980-10-02  [{'address_components': [{'long_name': 'Las Ve...  \n",
       "4  1978-09-15  [{'address_components': [{'long_name': 'New Or...  \n",
       "5  1978-02-15  [{'address_components': [{'long_name': 'Las Ve...  \n",
       "6  1977-09-29  [{'address_components': [{'long_name': 'New Yo...  \n",
       "..        ...                                                ...  \n",
       "58 1961-02-21  [{'address_components': [{'long_name': 'Miami ...  \n",
       "59 1961-02-07  [{'address_components': [{'long_name': 'Miami ...  \n",
       "60 1961-01-17  [{'address_components': [{'long_name': 'Miami'...  \n",
       "61 1960-12-27  [{'address_components': [{'long_name': 'Miami'...  \n",
       "62 1960-10-29  [{'address_components': [{'long_name': 'Louisv...  \n",
       "\n",
       "[61 rows x 13 columns]"
      ]
     },
     "execution_count": 9,
     "metadata": {},
     "output_type": "execute_result"
    }
   ],
   "source": [
    "df"
   ]
  },
  {
   "cell_type": "code",
   "execution_count": 15,
   "metadata": {
    "executionInfo": {
     "elapsed": 500,
     "status": "ok",
     "timestamp": 1642094817573,
     "user": {
      "displayName": "Alexandre Ramos",
      "photoUrl": "https://lh3.googleusercontent.com/a-/AOh14Gj66Xi4yenMv6W-GYI1ZUdWPSsUqoK307WqcWChHg=s64",
      "userId": "09838267163595269298"
     },
     "user_tz": 180
    },
    "id": "SwGUPu9XA6Cy"
   },
   "outputs": [],
   "source": [
    "# df['geocode_result'] = df['geocode_result'].apply(eval)"
   ]
  },
  {
   "cell_type": "code",
   "execution_count": 10,
   "metadata": {
    "executionInfo": {
     "elapsed": 478,
     "status": "ok",
     "timestamp": 1642094825471,
     "user": {
      "displayName": "Alexandre Ramos",
      "photoUrl": "https://lh3.googleusercontent.com/a-/AOh14Gj66Xi4yenMv6W-GYI1ZUdWPSsUqoK307WqcWChHg=s64",
      "userId": "09838267163595269298"
     },
     "user_tz": 180
    },
    "id": "VLaUO4Vuempp"
   },
   "outputs": [],
   "source": [
    "df['len_busca_google'] = df['geocode_result'].apply(lambda x: len(x))"
   ]
  },
  {
   "cell_type": "code",
   "execution_count": 11,
   "metadata": {
    "colab": {
     "base_uri": "https://localhost:8080/"
    },
    "executionInfo": {
     "elapsed": 634,
     "status": "ok",
     "timestamp": 1642094853037,
     "user": {
      "displayName": "Alexandre Ramos",
      "photoUrl": "https://lh3.googleusercontent.com/a-/AOh14Gj66Xi4yenMv6W-GYI1ZUdWPSsUqoK307WqcWChHg=s64",
      "userId": "09838267163595269298"
     },
     "user_tz": 180
    },
    "id": "GBUlkHUweosr",
    "outputId": "551d9337-efde-45d5-c0a8-80c0578b7249"
   },
   "outputs": [
    {
     "data": {
      "text/plain": [
       "1    60\n",
       "2     1\n",
       "Name: len_busca_google, dtype: int64"
      ]
     },
     "execution_count": 11,
     "metadata": {},
     "output_type": "execute_result"
    }
   ],
   "source": [
    "df['len_busca_google'].value_counts()"
   ]
  },
  {
   "cell_type": "code",
   "execution_count": 12,
   "metadata": {
    "colab": {
     "base_uri": "https://localhost:8080/",
     "height": 35
    },
    "executionInfo": {
     "elapsed": 590,
     "status": "ok",
     "timestamp": 1642094918296,
     "user": {
      "displayName": "Alexandre Ramos",
      "photoUrl": "https://lh3.googleusercontent.com/a-/AOh14Gj66Xi4yenMv6W-GYI1ZUdWPSsUqoK307WqcWChHg=s64",
      "userId": "09838267163595269298"
     },
     "user_tz": 180
    },
    "id": "y2I-V0x0evY4",
    "outputId": "9f23dbec-175e-4626-ff5c-ff4e4219b69f"
   },
   "outputs": [
    {
     "data": {
      "text/plain": [
       "\"12    [{'address_components': [{'long_name': 'Quezon...\\nName: geocode_result, dtype: object\""
      ]
     },
     "execution_count": 12,
     "metadata": {},
     "output_type": "execute_result"
    }
   ],
   "source": [
    "str(df.loc[df.len_busca_google == 2]['geocode_result'])"
   ]
  },
  {
   "cell_type": "code",
   "execution_count": 13,
   "metadata": {
    "executionInfo": {
     "elapsed": 502,
     "status": "ok",
     "timestamp": 1642094969769,
     "user": {
      "displayName": "Alexandre Ramos",
      "photoUrl": "https://lh3.googleusercontent.com/a-/AOh14Gj66Xi4yenMv6W-GYI1ZUdWPSsUqoK307WqcWChHg=s64",
      "userId": "09838267163595269298"
     },
     "user_tz": 180
    },
    "id": "4-6938_zeqG8"
   },
   "outputs": [],
   "source": [
    "df['lat_lng'] = df['geocode_result'].apply(lambda x: x[0]['geometry']['location'])"
   ]
  },
  {
   "cell_type": "code",
   "execution_count": 14,
   "metadata": {
    "executionInfo": {
     "elapsed": 542,
     "status": "ok",
     "timestamp": 1642094997896,
     "user": {
      "displayName": "Alexandre Ramos",
      "photoUrl": "https://lh3.googleusercontent.com/a-/AOh14Gj66Xi4yenMv6W-GYI1ZUdWPSsUqoK307WqcWChHg=s64",
      "userId": "09838267163595269298"
     },
     "user_tz": 180
    },
    "id": "ARUMfOLkfJG9"
   },
   "outputs": [],
   "source": [
    "df['lat'] = df['lat_lng'].apply(lambda x: x['lat'])\n",
    "df['lng'] = df['lat_lng'].apply(lambda x: x['lng'])"
   ]
  },
  {
   "cell_type": "code",
   "execution_count": 15,
   "metadata": {
    "executionInfo": {
     "elapsed": 783,
     "status": "ok",
     "timestamp": 1642095030660,
     "user": {
      "displayName": "Alexandre Ramos",
      "photoUrl": "https://lh3.googleusercontent.com/a-/AOh14Gj66Xi4yenMv6W-GYI1ZUdWPSsUqoK307WqcWChHg=s64",
      "userId": "09838267163595269298"
     },
     "user_tz": 180
    },
    "id": "Qx1IFhFjfSuq"
   },
   "outputs": [],
   "source": [
    "df.filter(['Resultado', 'Oponente', 'Método', 'Round, Duração', 'Data', 'Idade',\n",
    "       'Local','dtg','lat','lng']).sort_values(by='dtg').to_csv('lutas.csv')"
   ]
  }
 ],
 "metadata": {
  "colab": {
   "authorship_tag": "ABX9TyPuCmFe1P8xFPsD1kIbvdw1",
   "name": "Muhammad Ali.ipynb",
   "provenance": []
  },
  "kernelspec": {
   "display_name": "Python 3",
   "language": "python",
   "name": "python3"
  },
  "language_info": {
   "codemirror_mode": {
    "name": "ipython",
    "version": 2
   },
   "file_extension": ".py",
   "mimetype": "text/x-python",
   "name": "python",
   "nbconvert_exporter": "python",
   "pygments_lexer": "ipython2",
   "version": "2.7.17"
  }
 },
 "nbformat": 4,
 "nbformat_minor": 1
}
